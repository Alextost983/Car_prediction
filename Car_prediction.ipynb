{
 "cells": [
  {
   "attachments": {},
   "cell_type": "markdown",
   "metadata": {},
   "source": [
    " --- \n",
    "<h4>Описание задачи:</h4>\n",
    "\n",
    "     В каждой большой сети появляется необходимость внедрения точных расчетов и получения качественных метрик. \n",
    "\n",
    "     Одним из таких показателей явлется метрика ценообразования. Сравнение было одним из ключевых основ, по которым можно делать те или иные выводы! \n",
    "\n",
    "      И чем болле дорогостоящий товар, тем острее необходимость не ошибится в субъективном анализе!\n",
    "\n",
    "      В этом проекте будет уделено внимание автотематике и вопросу ценообразования на автомаркетплейсе. \n",
    "\n",
    "      Целью проекта является разработка модели машинного обучения для предсказания цены авто по набору исходных данных, представленных в виде датасета на более чем 400 000 позиций в исторических данных.\n",
    "\n",
    "---"
   ]
  },
  {
   "attachments": {},
   "cell_type": "markdown",
   "metadata": {},
   "source": [
    "# 1. Загрузка и ознакомление с данными"
   ]
  },
  {
   "cell_type": "code",
   "execution_count": 4,
   "metadata": {
    "_cell_guid": "b1076dfc-b9ad-4769-8c92-a6c4dae69d19",
    "_uuid": "8f2839f25d086af736a60e9eeb907d3b93b6e0e5",
    "execution": {
     "iopub.execute_input": "2023-05-26T16:56:49.692559Z",
     "iopub.status.busy": "2023-05-26T16:56:49.691892Z",
     "iopub.status.idle": "2023-05-26T16:56:49.696518Z",
     "shell.execute_reply": "2023-05-26T16:56:49.695620Z",
     "shell.execute_reply.started": "2023-05-26T16:56:49.692524Z"
    },
    "scrolled": true
   },
   "outputs": [
    {
     "name": "stdout",
     "output_type": "stream",
     "text": [
      "Defaulting to user installation because normal site-packages is not writeable\n",
      "Requirement already satisfied: catboost in c:\\users\\asus\\appdata\\roaming\\python\\python39\\site-packages (1.2)\n",
      "Requirement already satisfied: six in c:\\anaconda3\\lib\\site-packages (from catboost) (1.16.0)\n",
      "Requirement already satisfied: numpy>=1.16.0 in c:\\anaconda3\\lib\\site-packages (from catboost) (1.21.5)\n",
      "Requirement already satisfied: plotly in c:\\anaconda3\\lib\\site-packages (from catboost) (5.6.0)\n",
      "Requirement already satisfied: graphviz in c:\\users\\asus\\appdata\\roaming\\python\\python39\\site-packages (from catboost) (0.20.1)\n",
      "Requirement already satisfied: pandas>=0.24 in c:\\anaconda3\\lib\\site-packages (from catboost) (1.4.2)\n",
      "Requirement already satisfied: scipy in c:\\anaconda3\\lib\\site-packages (from catboost) (1.7.3)\n",
      "Requirement already satisfied: matplotlib in c:\\anaconda3\\lib\\site-packages (from catboost) (3.5.1)\n",
      "Requirement already satisfied: python-dateutil>=2.8.1 in c:\\anaconda3\\lib\\site-packages (from pandas>=0.24->catboost) (2.8.2)\n",
      "Requirement already satisfied: pytz>=2020.1 in c:\\anaconda3\\lib\\site-packages (from pandas>=0.24->catboost) (2021.3)\n",
      "Requirement already satisfied: packaging>=20.0 in c:\\anaconda3\\lib\\site-packages (from matplotlib->catboost) (21.3)\n",
      "Requirement already satisfied: fonttools>=4.22.0 in c:\\anaconda3\\lib\\site-packages (from matplotlib->catboost) (4.25.0)\n",
      "Requirement already satisfied: pyparsing>=2.2.1 in c:\\anaconda3\\lib\\site-packages (from matplotlib->catboost) (3.0.4)\n",
      "Requirement already satisfied: pillow>=6.2.0 in c:\\anaconda3\\lib\\site-packages (from matplotlib->catboost) (9.0.1)\n",
      "Requirement already satisfied: kiwisolver>=1.0.1 in c:\\anaconda3\\lib\\site-packages (from matplotlib->catboost) (1.3.2)\n",
      "Requirement already satisfied: cycler>=0.10 in c:\\anaconda3\\lib\\site-packages (from matplotlib->catboost) (0.11.0)\n",
      "Requirement already satisfied: tenacity>=6.2.0 in c:\\anaconda3\\lib\\site-packages (from plotly->catboost) (8.0.1)\n"
     ]
    }
   ],
   "source": [
    "!pip install catboost\n",
    "import numpy as np \n",
    "import pandas as pd \n",
    "import datetime"
   ]
  },
  {
   "cell_type": "code",
   "execution_count": null,
   "metadata": {
    "execution": {
     "iopub.execute_input": "2023-05-26T16:56:50.695795Z",
     "iopub.status.busy": "2023-05-26T16:56:50.695431Z",
     "iopub.status.idle": "2023-05-26T16:56:50.700744Z",
     "shell.execute_reply": "2023-05-26T16:56:50.699689Z",
     "shell.execute_reply.started": "2023-05-26T16:56:50.695767Z"
    }
   },
   "outputs": [],
   "source": [
    "import seaborn as sns\n",
    "import matplotlib.pyplot as plt\n"
   ]
  },
  {
   "cell_type": "code",
   "execution_count": 6,
   "metadata": {
    "execution": {
     "iopub.execute_input": "2023-05-26T16:56:51.832748Z",
     "iopub.status.busy": "2023-05-26T16:56:51.832383Z",
     "iopub.status.idle": "2023-05-26T16:56:51.839234Z",
     "shell.execute_reply": "2023-05-26T16:56:51.837041Z",
     "shell.execute_reply.started": "2023-05-26T16:56:51.832717Z"
    }
   },
   "outputs": [],
   "source": [
    "\n",
    "\n",
    "from sklearn.model_selection import train_test_split, GridSearchCV\n",
    "from sklearn.preprocessing import OneHotEncoder, LabelEncoder\n",
    "from sklearn.preprocessing import OrdinalEncoder, StandardScaler\n",
    "from sklearn.linear_model import LinearRegression\n",
    "from sklearn.ensemble import RandomForestRegressor\n",
    "from catboost import CatBoostRegressor\n",
    "from sklearn.metrics import mean_squared_error, mean_absolute_percentage_error"
   ]
  },
  {
   "cell_type": "code",
   "execution_count": 7,
   "metadata": {
    "execution": {
     "iopub.execute_input": "2023-05-26T16:56:53.556627Z",
     "iopub.status.busy": "2023-05-26T16:56:53.556272Z",
     "iopub.status.idle": "2023-05-26T16:56:53.561126Z",
     "shell.execute_reply": "2023-05-26T16:56:53.560092Z",
     "shell.execute_reply.started": "2023-05-26T16:56:53.556597Z"
    }
   },
   "outputs": [],
   "source": [
    "import warnings\n",
    "warnings.filterwarnings('ignore')"
   ]
  },
  {
   "attachments": {},
   "cell_type": "markdown",
   "metadata": {},
   "source": [
    "<h3>Загрузим таблицы</h3>"
   ]
  },
  {
   "cell_type": "code",
   "execution_count": 8,
   "metadata": {
    "execution": {
     "iopub.execute_input": "2023-05-26T16:56:55.580586Z",
     "iopub.status.busy": "2023-05-26T16:56:55.579464Z",
     "iopub.status.idle": "2023-05-26T16:56:57.930228Z",
     "shell.execute_reply": "2023-05-26T16:56:57.929265Z",
     "shell.execute_reply.started": "2023-05-26T16:56:55.580538Z"
    }
   },
   "outputs": [],
   "source": [
    "autodate = pd.read_csv('./train.csv')\n",
    "autodate_test = pd.read_csv('./test.csv')"
   ]
  },
  {
   "cell_type": "code",
   "execution_count": 9,
   "metadata": {
    "execution": {
     "iopub.execute_input": "2023-05-26T16:56:59.906558Z",
     "iopub.status.busy": "2023-05-26T16:56:59.905568Z",
     "iopub.status.idle": "2023-05-26T16:56:59.915729Z",
     "shell.execute_reply": "2023-05-26T16:56:59.914745Z",
     "shell.execute_reply.started": "2023-05-26T16:56:59.906511Z"
    }
   },
   "outputs": [],
   "source": [
    "submission = pd.read_csv('./sample_submission.csv')"
   ]
  },
  {
   "cell_type": "code",
   "execution_count": 10,
   "metadata": {},
   "outputs": [],
   "source": [
    "submission = pd.DataFrame()\n",
    "submission['vin'] = autodate_test['vin']\n",
    "submission.to_csv(r'./sample_submission.csv',index = False)\n"
   ]
  },
  {
   "attachments": {},
   "cell_type": "markdown",
   "metadata": {},
   "source": [
    "<h3>Проверим соответствие данных в датасетах</h3>"
   ]
  },
  {
   "cell_type": "code",
   "execution_count": 11,
   "metadata": {
    "execution": {
     "iopub.execute_input": "2023-05-26T16:57:12.945388Z",
     "iopub.status.busy": "2023-05-26T16:57:12.945017Z",
     "iopub.status.idle": "2023-05-26T16:57:14.205087Z",
     "shell.execute_reply": "2023-05-26T16:57:14.203128Z",
     "shell.execute_reply.started": "2023-05-26T16:57:12.945357Z"
    }
   },
   "outputs": [
    {
     "name": "stdout",
     "output_type": "stream",
     "text": [
      "<class 'pandas.core.frame.DataFrame'>\n",
      "RangeIndex: 440236 entries, 0 to 440235\n",
      "Data columns (total 15 columns):\n",
      " #   Column        Non-Null Count   Dtype  \n",
      "---  ------        --------------   -----  \n",
      " 0   year          440236 non-null  int64  \n",
      " 1   make          432193 non-null  object \n",
      " 2   model         432113 non-null  object \n",
      " 3   trim          431899 non-null  object \n",
      " 4   body          429843 non-null  object \n",
      " 5   transmission  388775 non-null  object \n",
      " 6   vin           440236 non-null  object \n",
      " 7   state         440236 non-null  object \n",
      " 8   condition     430831 non-null  float64\n",
      " 9   odometer      440167 non-null  float64\n",
      " 10  color         439650 non-null  object \n",
      " 11  interior      439650 non-null  object \n",
      " 12  seller        440236 non-null  object \n",
      " 13  sellingprice  440236 non-null  int64  \n",
      " 14  saledate      440236 non-null  object \n",
      "dtypes: float64(2), int64(2), object(11)\n",
      "memory usage: 50.4+ MB\n",
      "None\n"
     ]
    }
   ],
   "source": [
    "print(autodate.info())"
   ]
  },
  {
   "cell_type": "code",
   "execution_count": 12,
   "metadata": {
    "execution": {
     "iopub.execute_input": "2023-05-26T16:57:14.207343Z",
     "iopub.status.busy": "2023-05-26T16:57:14.207007Z",
     "iopub.status.idle": "2023-05-26T16:57:14.604453Z",
     "shell.execute_reply": "2023-05-26T16:57:14.603474Z",
     "shell.execute_reply.started": "2023-05-26T16:57:14.207310Z"
    }
   },
   "outputs": [
    {
     "name": "stdout",
     "output_type": "stream",
     "text": [
      "<class 'pandas.core.frame.DataFrame'>\n",
      "RangeIndex: 110058 entries, 0 to 110057\n",
      "Data columns (total 14 columns):\n",
      " #   Column        Non-Null Count   Dtype  \n",
      "---  ------        --------------   -----  \n",
      " 0   year          110058 non-null  int64  \n",
      " 1   make          107997 non-null  object \n",
      " 2   model         107979 non-null  object \n",
      " 3   trim          107944 non-null  object \n",
      " 4   body          107464 non-null  object \n",
      " 5   transmission  97047 non-null   object \n",
      " 6   vin           110058 non-null  object \n",
      " 7   state         110058 non-null  object \n",
      " 8   condition     107679 non-null  float64\n",
      " 9   odometer      110039 non-null  float64\n",
      " 10  color         109900 non-null  object \n",
      " 11  interior      109900 non-null  object \n",
      " 12  seller        110058 non-null  object \n",
      " 13  saledate      110058 non-null  object \n",
      "dtypes: float64(2), int64(1), object(11)\n",
      "memory usage: 11.8+ MB\n",
      "None\n"
     ]
    }
   ],
   "source": [
    "print(autodate_test.info())"
   ]
  },
  {
   "attachments": {},
   "cell_type": "markdown",
   "metadata": {},
   "source": [
    "<h4>Вывод: Как и должно быть, типы соответствуют.</h4>"
   ]
  },
  {
   "attachments": {},
   "cell_type": "markdown",
   "metadata": {},
   "source": [
    "# 2. Предварительная обработка"
   ]
  },
  {
   "attachments": {},
   "cell_type": "markdown",
   "metadata": {},
   "source": [
    "<h3>Упростим структуру даты, убрав данные часового пояса</h3>"
   ]
  },
  {
   "cell_type": "code",
   "execution_count": 14,
   "metadata": {
    "execution": {
     "iopub.execute_input": "2023-05-26T16:57:18.636406Z",
     "iopub.status.busy": "2023-05-26T16:57:18.635824Z",
     "iopub.status.idle": "2023-05-26T16:57:20.356274Z",
     "shell.execute_reply": "2023-05-26T16:57:20.355112Z",
     "shell.execute_reply.started": "2023-05-26T16:57:18.636373Z"
    }
   },
   "outputs": [],
   "source": [
    "autodate['saledate'] = pd.to_datetime(autodate['saledate'], utc=True).dt.date\n",
    "autodate_test['saledate'] = pd.to_datetime(autodate_test['saledate'], utc=True).dt.date"
   ]
  },
  {
   "cell_type": "code",
   "execution_count": 15,
   "metadata": {
    "execution": {
     "iopub.execute_input": "2023-05-26T16:57:20.358696Z",
     "iopub.status.busy": "2023-05-26T16:57:20.358345Z",
     "iopub.status.idle": "2023-05-26T16:57:20.387275Z",
     "shell.execute_reply": "2023-05-26T16:57:20.386308Z",
     "shell.execute_reply.started": "2023-05-26T16:57:20.358663Z"
    }
   },
   "outputs": [
    {
     "data": {
      "text/html": [
       "<div>\n",
       "<style scoped>\n",
       "    .dataframe tbody tr th:only-of-type {\n",
       "        vertical-align: middle;\n",
       "    }\n",
       "\n",
       "    .dataframe tbody tr th {\n",
       "        vertical-align: top;\n",
       "    }\n",
       "\n",
       "    .dataframe thead th {\n",
       "        text-align: right;\n",
       "    }\n",
       "</style>\n",
       "<table border=\"1\" class=\"dataframe\">\n",
       "  <thead>\n",
       "    <tr style=\"text-align: right;\">\n",
       "      <th></th>\n",
       "      <th>year</th>\n",
       "      <th>make</th>\n",
       "      <th>model</th>\n",
       "      <th>trim</th>\n",
       "      <th>body</th>\n",
       "      <th>transmission</th>\n",
       "      <th>vin</th>\n",
       "      <th>state</th>\n",
       "      <th>condition</th>\n",
       "      <th>odometer</th>\n",
       "      <th>color</th>\n",
       "      <th>interior</th>\n",
       "      <th>seller</th>\n",
       "      <th>sellingprice</th>\n",
       "      <th>saledate</th>\n",
       "    </tr>\n",
       "  </thead>\n",
       "  <tbody>\n",
       "    <tr>\n",
       "      <th>0</th>\n",
       "      <td>2011</td>\n",
       "      <td>Ford</td>\n",
       "      <td>Edge</td>\n",
       "      <td>SEL</td>\n",
       "      <td>suv</td>\n",
       "      <td>automatic</td>\n",
       "      <td>2fmdk3jc4bba41556</td>\n",
       "      <td>md</td>\n",
       "      <td>4.2</td>\n",
       "      <td>111041.0</td>\n",
       "      <td>black</td>\n",
       "      <td>black</td>\n",
       "      <td>santander consumer</td>\n",
       "      <td>12500</td>\n",
       "      <td>2015-06-01</td>\n",
       "    </tr>\n",
       "    <tr>\n",
       "      <th>1</th>\n",
       "      <td>2014</td>\n",
       "      <td>Ford</td>\n",
       "      <td>Fusion</td>\n",
       "      <td>SE</td>\n",
       "      <td>Sedan</td>\n",
       "      <td>automatic</td>\n",
       "      <td>3fa6p0h75er208976</td>\n",
       "      <td>mo</td>\n",
       "      <td>3.5</td>\n",
       "      <td>31034.0</td>\n",
       "      <td>black</td>\n",
       "      <td>black</td>\n",
       "      <td>ars/avis budget group</td>\n",
       "      <td>14500</td>\n",
       "      <td>2015-02-24</td>\n",
       "    </tr>\n",
       "    <tr>\n",
       "      <th>2</th>\n",
       "      <td>2012</td>\n",
       "      <td>Nissan</td>\n",
       "      <td>Sentra</td>\n",
       "      <td>2.0 SL</td>\n",
       "      <td>sedan</td>\n",
       "      <td>automatic</td>\n",
       "      <td>3n1ab6ap4cl698412</td>\n",
       "      <td>nj</td>\n",
       "      <td>2.2</td>\n",
       "      <td>35619.0</td>\n",
       "      <td>black</td>\n",
       "      <td>black</td>\n",
       "      <td>nissan-infiniti lt</td>\n",
       "      <td>9100</td>\n",
       "      <td>2015-06-09</td>\n",
       "    </tr>\n",
       "    <tr>\n",
       "      <th>3</th>\n",
       "      <td>2003</td>\n",
       "      <td>HUMMER</td>\n",
       "      <td>H2</td>\n",
       "      <td>Base</td>\n",
       "      <td>suv</td>\n",
       "      <td>automatic</td>\n",
       "      <td>5grgn23u93h101360</td>\n",
       "      <td>tx</td>\n",
       "      <td>2.8</td>\n",
       "      <td>131301.0</td>\n",
       "      <td>gold</td>\n",
       "      <td>beige</td>\n",
       "      <td>wichita falls ford lin inc</td>\n",
       "      <td>13300</td>\n",
       "      <td>2015-06-16</td>\n",
       "    </tr>\n",
       "    <tr>\n",
       "      <th>4</th>\n",
       "      <td>2007</td>\n",
       "      <td>Ford</td>\n",
       "      <td>Fusion</td>\n",
       "      <td>SEL</td>\n",
       "      <td>Sedan</td>\n",
       "      <td>automatic</td>\n",
       "      <td>3fahp08z17r268380</td>\n",
       "      <td>md</td>\n",
       "      <td>2.0</td>\n",
       "      <td>127709.0</td>\n",
       "      <td>black</td>\n",
       "      <td>black</td>\n",
       "      <td>purple heart</td>\n",
       "      <td>1300</td>\n",
       "      <td>2015-02-02</td>\n",
       "    </tr>\n",
       "  </tbody>\n",
       "</table>\n",
       "</div>"
      ],
      "text/plain": [
       "   year    make   model    trim   body transmission                vin state  \\\n",
       "0  2011    Ford    Edge     SEL    suv    automatic  2fmdk3jc4bba41556    md   \n",
       "1  2014    Ford  Fusion      SE  Sedan    automatic  3fa6p0h75er208976    mo   \n",
       "2  2012  Nissan  Sentra  2.0 SL  sedan    automatic  3n1ab6ap4cl698412    nj   \n",
       "3  2003  HUMMER      H2    Base    suv    automatic  5grgn23u93h101360    tx   \n",
       "4  2007    Ford  Fusion     SEL  Sedan    automatic  3fahp08z17r268380    md   \n",
       "\n",
       "   condition  odometer  color interior                      seller  \\\n",
       "0        4.2  111041.0  black    black          santander consumer   \n",
       "1        3.5   31034.0  black    black       ars/avis budget group   \n",
       "2        2.2   35619.0  black    black          nissan-infiniti lt   \n",
       "3        2.8  131301.0   gold    beige  wichita falls ford lin inc   \n",
       "4        2.0  127709.0  black    black                purple heart   \n",
       "\n",
       "   sellingprice    saledate  \n",
       "0         12500  2015-06-01  \n",
       "1         14500  2015-02-24  \n",
       "2          9100  2015-06-09  \n",
       "3         13300  2015-06-16  \n",
       "4          1300  2015-02-02  "
      ]
     },
     "execution_count": 15,
     "metadata": {},
     "output_type": "execute_result"
    }
   ],
   "source": [
    "autodate.head()"
   ]
  },
  {
   "cell_type": "code",
   "execution_count": 16,
   "metadata": {
    "execution": {
     "iopub.execute_input": "2023-05-26T16:57:20.388720Z",
     "iopub.status.busy": "2023-05-26T16:57:20.388431Z",
     "iopub.status.idle": "2023-05-26T16:57:20.409672Z",
     "shell.execute_reply": "2023-05-26T16:57:20.408313Z",
     "shell.execute_reply.started": "2023-05-26T16:57:20.388695Z"
    }
   },
   "outputs": [
    {
     "data": {
      "text/html": [
       "<div>\n",
       "<style scoped>\n",
       "    .dataframe tbody tr th:only-of-type {\n",
       "        vertical-align: middle;\n",
       "    }\n",
       "\n",
       "    .dataframe tbody tr th {\n",
       "        vertical-align: top;\n",
       "    }\n",
       "\n",
       "    .dataframe thead th {\n",
       "        text-align: right;\n",
       "    }\n",
       "</style>\n",
       "<table border=\"1\" class=\"dataframe\">\n",
       "  <thead>\n",
       "    <tr style=\"text-align: right;\">\n",
       "      <th></th>\n",
       "      <th>year</th>\n",
       "      <th>make</th>\n",
       "      <th>model</th>\n",
       "      <th>trim</th>\n",
       "      <th>body</th>\n",
       "      <th>transmission</th>\n",
       "      <th>vin</th>\n",
       "      <th>state</th>\n",
       "      <th>condition</th>\n",
       "      <th>odometer</th>\n",
       "      <th>color</th>\n",
       "      <th>interior</th>\n",
       "      <th>seller</th>\n",
       "      <th>saledate</th>\n",
       "    </tr>\n",
       "  </thead>\n",
       "  <tbody>\n",
       "    <tr>\n",
       "      <th>0</th>\n",
       "      <td>2005</td>\n",
       "      <td>Cadillac</td>\n",
       "      <td>CTS</td>\n",
       "      <td>Base</td>\n",
       "      <td>Sedan</td>\n",
       "      <td>automatic</td>\n",
       "      <td>1g6dp567450124779</td>\n",
       "      <td>ca</td>\n",
       "      <td>2.7</td>\n",
       "      <td>116970.0</td>\n",
       "      <td>silver</td>\n",
       "      <td>black</td>\n",
       "      <td>lexus of stevens creek</td>\n",
       "      <td>2015-01-13</td>\n",
       "    </tr>\n",
       "    <tr>\n",
       "      <th>1</th>\n",
       "      <td>2014</td>\n",
       "      <td>GMC</td>\n",
       "      <td>Savana Cargo</td>\n",
       "      <td>2500</td>\n",
       "      <td>Van</td>\n",
       "      <td>NaN</td>\n",
       "      <td>1gtw7fca7e1902207</td>\n",
       "      <td>pa</td>\n",
       "      <td>4.4</td>\n",
       "      <td>6286.0</td>\n",
       "      <td>white</td>\n",
       "      <td>gray</td>\n",
       "      <td>u-haul</td>\n",
       "      <td>2015-02-26</td>\n",
       "    </tr>\n",
       "    <tr>\n",
       "      <th>2</th>\n",
       "      <td>2013</td>\n",
       "      <td>Nissan</td>\n",
       "      <td>Murano</td>\n",
       "      <td>S</td>\n",
       "      <td>SUV</td>\n",
       "      <td>automatic</td>\n",
       "      <td>jn8az1mw6dw303497</td>\n",
       "      <td>oh</td>\n",
       "      <td>4.6</td>\n",
       "      <td>11831.0</td>\n",
       "      <td>gray</td>\n",
       "      <td>black</td>\n",
       "      <td>nissan-infiniti lt</td>\n",
       "      <td>2015-02-23</td>\n",
       "    </tr>\n",
       "    <tr>\n",
       "      <th>3</th>\n",
       "      <td>2013</td>\n",
       "      <td>Chevrolet</td>\n",
       "      <td>Impala</td>\n",
       "      <td>LS Fleet</td>\n",
       "      <td>Sedan</td>\n",
       "      <td>automatic</td>\n",
       "      <td>2g1wf5e34d1160703</td>\n",
       "      <td>fl</td>\n",
       "      <td>2.3</td>\n",
       "      <td>57105.0</td>\n",
       "      <td>silver</td>\n",
       "      <td>black</td>\n",
       "      <td>onemain rem/auto club of miami inc dba north dad</td>\n",
       "      <td>2015-03-05</td>\n",
       "    </tr>\n",
       "    <tr>\n",
       "      <th>4</th>\n",
       "      <td>2013</td>\n",
       "      <td>Nissan</td>\n",
       "      <td>Titan</td>\n",
       "      <td>SV</td>\n",
       "      <td>Crew Cab</td>\n",
       "      <td>automatic</td>\n",
       "      <td>1n6aa0ec3dn301209</td>\n",
       "      <td>tn</td>\n",
       "      <td>2.9</td>\n",
       "      <td>31083.0</td>\n",
       "      <td>black</td>\n",
       "      <td>black</td>\n",
       "      <td>nissan north america inc.</td>\n",
       "      <td>2015-06-02</td>\n",
       "    </tr>\n",
       "  </tbody>\n",
       "</table>\n",
       "</div>"
      ],
      "text/plain": [
       "   year       make         model      trim      body transmission  \\\n",
       "0  2005   Cadillac           CTS      Base     Sedan    automatic   \n",
       "1  2014        GMC  Savana Cargo      2500       Van          NaN   \n",
       "2  2013     Nissan        Murano         S       SUV    automatic   \n",
       "3  2013  Chevrolet        Impala  LS Fleet     Sedan    automatic   \n",
       "4  2013     Nissan         Titan        SV  Crew Cab    automatic   \n",
       "\n",
       "                 vin state  condition  odometer   color interior  \\\n",
       "0  1g6dp567450124779    ca        2.7  116970.0  silver    black   \n",
       "1  1gtw7fca7e1902207    pa        4.4    6286.0   white     gray   \n",
       "2  jn8az1mw6dw303497    oh        4.6   11831.0    gray    black   \n",
       "3  2g1wf5e34d1160703    fl        2.3   57105.0  silver    black   \n",
       "4  1n6aa0ec3dn301209    tn        2.9   31083.0   black    black   \n",
       "\n",
       "                                             seller    saledate  \n",
       "0                            lexus of stevens creek  2015-01-13  \n",
       "1                                            u-haul  2015-02-26  \n",
       "2                                nissan-infiniti lt  2015-02-23  \n",
       "3  onemain rem/auto club of miami inc dba north dad  2015-03-05  \n",
       "4                         nissan north america inc.  2015-06-02  "
      ]
     },
     "execution_count": 16,
     "metadata": {},
     "output_type": "execute_result"
    }
   ],
   "source": [
    "autodate_test.head()"
   ]
  },
  {
   "attachments": {},
   "cell_type": "markdown",
   "metadata": {},
   "source": [
    "<h3>Проверим наличие дупликатов и пропусков в данных и сделаем предположение о способах их устранения</h3>"
   ]
  },
  {
   "cell_type": "code",
   "execution_count": 17,
   "metadata": {
    "execution": {
     "iopub.execute_input": "2023-05-26T16:57:21.759115Z",
     "iopub.status.busy": "2023-05-26T16:57:21.758719Z",
     "iopub.status.idle": "2023-05-26T16:57:21.768021Z",
     "shell.execute_reply": "2023-05-26T16:57:21.766882Z",
     "shell.execute_reply.started": "2023-05-26T16:57:21.759077Z"
    }
   },
   "outputs": [
    {
     "data": {
      "text/plain": [
       "(440236, 15)"
      ]
     },
     "execution_count": 17,
     "metadata": {},
     "output_type": "execute_result"
    }
   ],
   "source": [
    "autodate.shape"
   ]
  },
  {
   "cell_type": "code",
   "execution_count": 18,
   "metadata": {
    "execution": {
     "iopub.execute_input": "2023-05-26T16:57:22.662641Z",
     "iopub.status.busy": "2023-05-26T16:57:22.662084Z",
     "iopub.status.idle": "2023-05-26T16:57:22.675269Z",
     "shell.execute_reply": "2023-05-26T16:57:22.674135Z",
     "shell.execute_reply.started": "2023-05-26T16:57:22.662601Z"
    }
   },
   "outputs": [
    {
     "data": {
      "text/plain": [
       "(110058, 14)"
      ]
     },
     "execution_count": 18,
     "metadata": {},
     "output_type": "execute_result"
    }
   ],
   "source": [
    "autodate_test.shape"
   ]
  },
  {
   "attachments": {},
   "cell_type": "markdown",
   "metadata": {},
   "source": [
    "<h4>Удаляем колонку  \"vin\". Она не нужна для расчетов</h4>"
   ]
  },
  {
   "cell_type": "code",
   "execution_count": 19,
   "metadata": {
    "execution": {
     "iopub.execute_input": "2023-05-26T16:57:25.979506Z",
     "iopub.status.busy": "2023-05-26T16:57:25.979137Z",
     "iopub.status.idle": "2023-05-26T16:57:26.035336Z",
     "shell.execute_reply": "2023-05-26T16:57:26.034421Z",
     "shell.execute_reply.started": "2023-05-26T16:57:25.979477Z"
    }
   },
   "outputs": [],
   "source": [
    "autodate.drop(columns='vin', inplace=True)\n",
    "autodate_test.drop(columns='vin', inplace=True)"
   ]
  },
  {
   "attachments": {},
   "cell_type": "markdown",
   "metadata": {},
   "source": [
    "<h4>Проверим уникальные значения на скрытые дупликаты</h4>"
   ]
  },
  {
   "cell_type": "code",
   "execution_count": 20,
   "metadata": {
    "execution": {
     "iopub.execute_input": "2023-05-26T16:57:28.507002Z",
     "iopub.status.busy": "2023-05-26T16:57:28.506637Z",
     "iopub.status.idle": "2023-05-26T16:57:28.551060Z",
     "shell.execute_reply": "2023-05-26T16:57:28.550102Z",
     "shell.execute_reply.started": "2023-05-26T16:57:28.506973Z"
    }
   },
   "outputs": [
    {
     "name": "stdout",
     "output_type": "stream",
     "text": [
      "['Ford' 'Nissan' 'HUMMER' 'Lincoln' 'pontiac' 'Hyundai' nan 'Buick'\n",
      " 'Chevrolet' 'Honda' 'Acura' 'Cadillac' 'GMC' 'Saab' 'Dodge'\n",
      " 'Mercedes-Benz' 'Toyota' 'Volkswagen' 'BMW' 'Infiniti' 'Chrysler' 'Kia'\n",
      " 'Jaguar' 'Subaru' 'Jeep' 'Lexus' 'mercedes' 'Scion' 'FIAT' 'Suzuki'\n",
      " 'Mazda' 'Volvo' 'Audi' 'MINI' 'Isuzu' 'Mitsubishi' 'smart' 'Pontiac'\n",
      " 'Porsche' 'subaru' 'ford' 'Land Rover' 'chrysler' 'Saturn' 'mazda'\n",
      " 'dodge' 'Ram' 'Oldsmobile' 'hyundai' 'Mercury' 'Bentley' 'toyota'\n",
      " 'lincoln' 'Fisker' 'nissan' 'chevrolet' 'honda' 'porsche' 'mitsubishi'\n",
      " 'lexus' 'bmw' 'Maserati' 'acura' 'jeep' 'mercury' 'Tesla' 'landrover'\n",
      " 'vw' 'cadillac' 'buick' 'gmc truck' 'land rover' 'volkswagen'\n",
      " 'Rolls-Royce' 'audi' 'Ferrari' 'suzuki' 'Plymouth' 'oldsmobile'\n",
      " 'Lamborghini' 'gmc' 'Geo' 'ford truck' 'Aston Martin' 'plymouth' 'Daewoo'\n",
      " 'maserati' 'kia' 'mercedes-b' 'dodge tk' 'mazda tk' 'dot' 'airstream']\n"
     ]
    }
   ],
   "source": [
    "print(autodate['make'].unique())"
   ]
  },
  {
   "cell_type": "code",
   "execution_count": 21,
   "metadata": {
    "execution": {
     "iopub.execute_input": "2023-05-26T16:57:29.624709Z",
     "iopub.status.busy": "2023-05-26T16:57:29.623693Z",
     "iopub.status.idle": "2023-05-26T16:57:29.642064Z",
     "shell.execute_reply": "2023-05-26T16:57:29.640855Z",
     "shell.execute_reply.started": "2023-05-26T16:57:29.624661Z"
    }
   },
   "outputs": [
    {
     "name": "stdout",
     "output_type": "stream",
     "text": [
      "['Cadillac' 'GMC' 'Nissan' 'Chevrolet' 'Volkswagen' 'Hyundai' 'Ford'\n",
      " 'Infiniti' 'Subaru' 'Kia' 'BMW' nan 'Mitsubishi' 'Dodge' 'Oldsmobile'\n",
      " 'Volvo' 'Pontiac' 'Acura' 'Honda' 'Toyota' 'Audi' 'Jeep' 'Lincoln'\n",
      " 'Chrysler' 'Mercedes-Benz' 'Ram' 'Scion' 'Mercury' 'Lexus' 'Saturn'\n",
      " 'Mazda' 'Porsche' 'MINI' 'smart' 'Buick' 'HUMMER' 'ford' 'chrysler'\n",
      " 'Jaguar' 'mitsubishi' 'FIAT' 'Saab' 'mazda' 'Suzuki' 'Land Rover' 'bmw'\n",
      " 'cadillac' 'oldsmobile' 'honda' 'acura' 'buick' 'landrover' 'Geo' 'lexus'\n",
      " 'dodge' 'chevrolet' 'chev truck' 'nissan' 'Bentley' 'jeep' 'mercury'\n",
      " 'toyota' 'gmc' 'Isuzu' 'Aston Martin' 'Maserati' 'land rover' 'kia'\n",
      " 'subaru' 'Daewoo' 'vw' 'volkswagen' 'Tesla' 'mercedes' 'Ferrari'\n",
      " 'hyundai' 'pontiac' 'Fisker' 'porsche' 'Rolls-Royce' 'Lotus' 'Plymouth'\n",
      " 'hyundai tk' 'lincoln' 'ford tk' 'audi']\n"
     ]
    }
   ],
   "source": [
    "print(autodate_test['make'].unique())"
   ]
  },
  {
   "attachments": {},
   "cell_type": "markdown",
   "metadata": {},
   "source": [
    "<h4>Прослеживаются дупликаты. Напишем функцию для их устранения</h4>"
   ]
  },
  {
   "cell_type": "code",
   "execution_count": 22,
   "metadata": {
    "execution": {
     "iopub.execute_input": "2023-05-26T16:57:31.376800Z",
     "iopub.status.busy": "2023-05-26T16:57:31.376441Z",
     "iopub.status.idle": "2023-05-26T16:57:31.382756Z",
     "shell.execute_reply": "2023-05-26T16:57:31.381175Z",
     "shell.execute_reply.started": "2023-05-26T16:57:31.376772Z"
    }
   },
   "outputs": [],
   "source": [
    "def replace_wrong_values(wrong_values, correct_value): \n",
    "    for wrong_value in wrong_values: \n",
    "        autodate['make'] = autodate['make'].replace(wrong_value, correct_value)\n",
    "        autodate_test['make'] = autodate_test['make'].replace(wrong_value, correct_value)\n",
    "        \n",
    "        autodate['body'] = autodate['body'].replace(wrong_value, correct_value)\n",
    "        autodate_test['body'] = autodate_test['body'].replace(wrong_value, correct_value)"
   ]
  },
  {
   "cell_type": "code",
   "execution_count": 23,
   "metadata": {
    "execution": {
     "iopub.execute_input": "2023-05-26T16:57:32.351450Z",
     "iopub.status.busy": "2023-05-26T16:57:32.351099Z",
     "iopub.status.idle": "2023-05-26T16:57:32.356565Z",
     "shell.execute_reply": "2023-05-26T16:57:32.355602Z",
     "shell.execute_reply.started": "2023-05-26T16:57:32.351423Z"
    }
   },
   "outputs": [],
   "source": [
    "#def replace_wrong_values1(wrong_values, correct_value): \n",
    " #   for wrong_value in wrong_values: \n",
    "  #      autodate_test['make'] = autodate_test['make'].replace(wrong_value, correct_value)"
   ]
  },
  {
   "attachments": {},
   "cell_type": "markdown",
   "metadata": {},
   "source": [
    "<h4> Сформируем списки дупликатов и основных значений для марки</h4>"
   ]
  },
  {
   "cell_type": "code",
   "execution_count": 24,
   "metadata": {
    "execution": {
     "iopub.execute_input": "2023-05-26T16:57:34.249126Z",
     "iopub.status.busy": "2023-05-26T16:57:34.248741Z",
     "iopub.status.idle": "2023-05-26T16:57:35.240354Z",
     "shell.execute_reply": "2023-05-26T16:57:35.239431Z",
     "shell.execute_reply.started": "2023-05-26T16:57:34.249094Z"
    }
   },
   "outputs": [],
   "source": [
    "duplicates26 = ['mercury']   \n",
    "name26 = 'Mercury' \n",
    "replace_wrong_values(duplicates26,name26) \n",
    "duplicates25 = ['lincoln']   \n",
    "name25 = 'Lincoln' \n",
    "replace_wrong_values(duplicates25,name25) \n",
    "duplicates24 = ['lexus']     \n",
    "name24 = 'Lexus'   \n",
    "replace_wrong_values(duplicates24,name24) \n",
    "duplicates23 = ['maserati']  \n",
    "name23 = 'Maserati'  \n",
    "replace_wrong_values(duplicates23,name23) \n",
    "duplicates22 = ['plymouth']  \n",
    "name22 = 'Plymouth'  \n",
    "replace_wrong_values(duplicates22,name22) \n",
    "        \n",
    "duplicates21 = ['mazda', 'mazda tk']  \n",
    "name21 = 'Mazda'  \n",
    "replace_wrong_values(duplicates21,name21)\n",
    "duplicates20 = ['audi'] \n",
    "name20 = 'Audi'         \n",
    "replace_wrong_values(duplicates20,name20)\n",
    "duplicates19 = ['porsche'] \n",
    "name19 = 'Porsche'  \n",
    "replace_wrong_values(duplicates19,name19)\n",
    "duplicates18 = ['mitsubishi'] \n",
    "name18 = 'Mitsubishi' \n",
    "replace_wrong_values(duplicates18,name18)\n",
    "duplicates17 = ['landrover', 'land rover'] \n",
    "name17 = 'Land Rover'  \n",
    "replace_wrong_values(duplicates17,name17)\n",
    "\n",
    "duplicates16 = ['mercedes-b', 'mercedes'] \n",
    "name16 = 'Mercedes-Benz'  \n",
    "replace_wrong_values(duplicates16,name16)\n",
    "duplicates15 = ['volkswagen', 'vw']  \n",
    "name15 = 'Volkswagen'  \n",
    "replace_wrong_values(duplicates15,name15)\n",
    "duplicates14 = ['bmw']  \n",
    "name14 = 'BMW'  \n",
    "replace_wrong_values(duplicates14,name14)\n",
    "duplicates13 = ['kia']  \n",
    "name13 = 'Kia'  \n",
    "replace_wrong_values(duplicates13,name13)\n",
    "duplicates12 = ['suzuki']  \n",
    "name12 = 'Suzuki'  \n",
    "replace_wrong_values(duplicates12,name12)\n",
    "\n",
    "duplicates11 = ['honda']  \n",
    "name11 = 'Honda'  \n",
    "replace_wrong_values(duplicates11,name11)\n",
    "duplicates10 = ['acura']  \n",
    "name10 = 'Acura'  \n",
    "replace_wrong_values(duplicates10,name10)\n",
    "duplicates9 = ['cadillac'] \n",
    "name9 = 'Cadillac'  \n",
    "replace_wrong_values(duplicates9,name9)\n",
    "duplicates8 = ['gmc truck', 'gmc']  \n",
    "name8 = 'GMC'  \n",
    "replace_wrong_values(duplicates8,name8)\n",
    "duplicates7 = ['dodge', 'dodge tk']  \n",
    "name7 = 'Dodge'  \n",
    "replace_wrong_values(duplicates7,name7)\n",
    "\n",
    "duplicates1 = ['ford', 'ford truck', 'ford tk']  \n",
    "name1 = 'Ford'  \n",
    "replace_wrong_values(duplicates1,name1)\n",
    "duplicates2 = ['nissan']   \n",
    "name2 = 'Nissan'  \n",
    "replace_wrong_values(duplicates2,name2)\n",
    "duplicates3 = ['pontiac']  \n",
    "name3 = 'Pontiac' \n",
    "replace_wrong_values(duplicates3,name3)\n",
    "duplicates4 = ['hyundai']   \n",
    "name4 = 'Hyundai'  \n",
    "replace_wrong_values(duplicates4,name4)\n",
    "duplicates5 = ['buick']  \n",
    "name5 = 'Buick'\n",
    "replace_wrong_values(duplicates5,name5)\n",
    "duplicates6 = ['chevrolet','chev truck'] \n",
    "name6 = 'Chevrolet'  \n",
    "replace_wrong_values(duplicates6,name6) \n",
    "\n",
    "duplicates27 = ['dodge tk', 'dodge'] \n",
    "name27 = 'Dodge'  \n",
    "replace_wrong_values(duplicates27,name27)\n",
    "duplicates28 = ['hyundai tk'] \n",
    "name28 = 'Hyundai'  \n",
    "replace_wrong_values(duplicates28,name28)     \n",
    "duplicates29 = ['Jeep'] \n",
    "name29 = 'Jeep'  \n",
    "replace_wrong_values(duplicates29,name29)\n",
    "\n",
    "duplicates30 = ['toyota'] \n",
    "name30 = 'Toyota'  \n",
    "replace_wrong_values(duplicates30,name30)\n",
    "duplicates31 = ['subaru'] \n",
    "name31 = 'Subaru'  \n",
    "replace_wrong_values(duplicates31,name31)\n",
    "duplicates32 = ['oldsmobile'] \n",
    "name32 = 'Oldsmobile'  \n",
    "replace_wrong_values(duplicates32,name32)"
   ]
  },
  {
   "cell_type": "code",
   "execution_count": 25,
   "metadata": {
    "execution": {
     "iopub.execute_input": "2023-05-26T16:57:35.242794Z",
     "iopub.status.busy": "2023-05-26T16:57:35.242411Z",
     "iopub.status.idle": "2023-05-26T16:57:35.289122Z",
     "shell.execute_reply": "2023-05-26T16:57:35.287878Z",
     "shell.execute_reply.started": "2023-05-26T16:57:35.242758Z"
    }
   },
   "outputs": [
    {
     "name": "stdout",
     "output_type": "stream",
     "text": [
      "['Ford' 'Nissan' 'HUMMER' 'Lincoln' 'Pontiac' 'Hyundai' nan 'Buick'\n",
      " 'Chevrolet' 'Honda' 'Acura' 'Cadillac' 'GMC' 'Saab' 'Dodge'\n",
      " 'Mercedes-Benz' 'Toyota' 'Volkswagen' 'BMW' 'Infiniti' 'Chrysler' 'Kia'\n",
      " 'Jaguar' 'Subaru' 'Jeep' 'Lexus' 'Scion' 'FIAT' 'Suzuki' 'Mazda' 'Volvo'\n",
      " 'Audi' 'MINI' 'Isuzu' 'Mitsubishi' 'smart' 'Porsche' 'Land Rover'\n",
      " 'chrysler' 'Saturn' 'Ram' 'Oldsmobile' 'Mercury' 'Bentley' 'Fisker'\n",
      " 'Maserati' 'jeep' 'Tesla' 'Rolls-Royce' 'Ferrari' 'Plymouth'\n",
      " 'Lamborghini' 'Geo' 'Aston Martin' 'Daewoo' 'dot' 'airstream']\n"
     ]
    }
   ],
   "source": [
    "print(autodate['make'].unique())"
   ]
  },
  {
   "cell_type": "code",
   "execution_count": 26,
   "metadata": {
    "execution": {
     "iopub.execute_input": "2023-05-26T16:57:36.052881Z",
     "iopub.status.busy": "2023-05-26T16:57:36.052511Z",
     "iopub.status.idle": "2023-05-26T16:57:36.066835Z",
     "shell.execute_reply": "2023-05-26T16:57:36.065752Z",
     "shell.execute_reply.started": "2023-05-26T16:57:36.052853Z"
    }
   },
   "outputs": [
    {
     "name": "stdout",
     "output_type": "stream",
     "text": [
      "['Cadillac' 'GMC' 'Nissan' 'Chevrolet' 'Volkswagen' 'Hyundai' 'Ford'\n",
      " 'Infiniti' 'Subaru' 'Kia' 'BMW' nan 'Mitsubishi' 'Dodge' 'Oldsmobile'\n",
      " 'Volvo' 'Pontiac' 'Acura' 'Honda' 'Toyota' 'Audi' 'Jeep' 'Lincoln'\n",
      " 'Chrysler' 'Mercedes-Benz' 'Ram' 'Scion' 'Mercury' 'Lexus' 'Saturn'\n",
      " 'Mazda' 'Porsche' 'MINI' 'smart' 'Buick' 'HUMMER' 'chrysler' 'Jaguar'\n",
      " 'FIAT' 'Saab' 'Suzuki' 'Land Rover' 'Geo' 'Bentley' 'jeep' 'Isuzu'\n",
      " 'Aston Martin' 'Maserati' 'Daewoo' 'Tesla' 'Ferrari' 'Fisker'\n",
      " 'Rolls-Royce' 'Lotus' 'Plymouth']\n"
     ]
    }
   ],
   "source": [
    "print(autodate_test['make'].unique())"
   ]
  },
  {
   "attachments": {},
   "cell_type": "markdown",
   "metadata": {},
   "source": [
    "<h4> Сформируем списки дупликатов и основных значений для модели</h4>"
   ]
  },
  {
   "cell_type": "code",
   "execution_count": 27,
   "metadata": {},
   "outputs": [],
   "source": [
    "duplicates_b1 = ['convertible', 'G Convertible', 'g convertible', 'Beetle Convertible', 'G37 Convertible', 'Q60 Convertible', 'beetle convertible', 'g37 convertible', 'granturismo convertible', 'GranTurismo Convertible', 'q60 convertible' ]  \n",
    "name_b1 = 'Convertible'\n",
    "replace_wrong_values(duplicates_b1,name_b1)\n",
    "\n",
    "\n",
    "duplicates_b2 = ['suv']\n",
    "name_b2 = 'SUV'\n",
    "replace_wrong_values(duplicates_b2,name_b2)\n",
    "\n",
    "\n",
    "duplicates_b3 = ['sedan', 'G Sedan', 'g sedan']\n",
    "name_b3 = 'Sedan'\n",
    "replace_wrong_values(duplicates_b3,name_b3)\n",
    "\n",
    "\n",
    "duplicates_b4 = ['minivan', 'e-series van', 'Van', 'E-Series Van', 'van', 'Promaster Cargo Van', 'Transit Van', 'promaster cargo van', 'transit van', 'Ram Van' ]\n",
    "name_b4 = 'Minivan'\n",
    "replace_wrong_values(duplicates_b4,name_b4)\n",
    "\n",
    "\n",
    "duplicates_b5 = ['sedan', 'G Coupe', 'coupe', 'CTS Coupe', 'Koup', 'Elantra Coupe', 'koup', 'g coupe', 'Genesis Coupe', 'G37 Coupe', 'cts coupe', 'genesis coupe', 'q60 coupe', 'CTS-V Coupe', 'elantra coupe', 'Q60 Coupe', 'g37 coupe', 'cts-v coupe']\n",
    "name_b5 = 'Coupe'\n",
    "replace_wrong_values(duplicates_b5,name_b5)\n",
    "\n",
    "\n",
    "duplicates_b6 = ['Quad Cab', 'King Cab', 'extended cab', 'double cab', 'access cab', 'Double Cab', 'crew cab', 'quad cab', 'CrewMax Cab', 'supercab', 'club cab', 'Mega Cab', 'regular-cab', 'Xtracab',  'Club Cab', 'mega cab', 'crewmax cab', 'king cab', 'Cab Plus 4', 'Cab Plus', 'cab plus 4', 'xtracab', 'regular cab', 'Access Cab', 'SuperCab', 'Crew Cab', 'Regular Cab', 'Extended Cab', 'SuperCrew', 'supercrew']\n",
    "name_b6 = 'Cab'\n",
    "replace_wrong_values(duplicates_b6,name_b6)\n",
    "\n",
    "\n",
    "duplicates_b7 = ['wagon', 'tsx sport wagon', 'TSX Sport Wagon', 'CTS Wagon', 'CTS-V Wagon']\n",
    "name_b7 = 'Wagon'\n",
    "replace_wrong_values(duplicates_b7,name_b7)\n",
    "\n",
    "\n",
    "duplicates_b8 = [ 'hatchback']\n",
    "name_b8 = 'Hatchback'\n",
    "replace_wrong_values(duplicates_b8,name_b8)"
   ]
  },
  {
   "cell_type": "code",
   "execution_count": 28,
   "metadata": {},
   "outputs": [
    {
     "name": "stdout",
     "output_type": "stream",
     "text": [
      "['SUV' 'Sedan' nan 'Wagon' 'Minivan' 'Cab' 'Coupe' 'Convertible'\n",
      " 'Hatchback']\n"
     ]
    }
   ],
   "source": [
    "print(autodate['body'].unique())"
   ]
  },
  {
   "cell_type": "code",
   "execution_count": 29,
   "metadata": {},
   "outputs": [
    {
     "name": "stdout",
     "output_type": "stream",
     "text": [
      "['Sedan' 'Minivan' 'SUV' 'Cab' 'Wagon' 'Hatchback' 'Convertible' nan\n",
      " 'Coupe']\n"
     ]
    }
   ],
   "source": [
    "print(autodate_test['body'].unique())"
   ]
  },
  {
   "attachments": {},
   "cell_type": "markdown",
   "metadata": {
    "execution": {
     "iopub.execute_input": "2023-05-20T22:34:58.202689Z",
     "iopub.status.busy": "2023-05-20T22:34:58.202131Z",
     "iopub.status.idle": "2023-05-20T22:34:58.210179Z",
     "shell.execute_reply": "2023-05-20T22:34:58.208421Z",
     "shell.execute_reply.started": "2023-05-20T22:34:58.202651Z"
    }
   },
   "source": [
    "<h4>Проверим пропуски в данных<h4>"
   ]
  },
  {
   "cell_type": "code",
   "execution_count": 214,
   "metadata": {
    "execution": {
     "iopub.execute_input": "2023-05-26T16:57:37.637791Z",
     "iopub.status.busy": "2023-05-26T16:57:37.637405Z",
     "iopub.status.idle": "2023-05-26T16:57:38.756759Z",
     "shell.execute_reply": "2023-05-26T16:57:38.755720Z",
     "shell.execute_reply.started": "2023-05-26T16:57:37.637760Z"
    }
   },
   "outputs": [
    {
     "name": "stdout",
     "output_type": "stream",
     "text": [
      "Пропуски в данных:\n",
      "year                0\n",
      "make             8043\n",
      "model            8123\n",
      "trim             8337\n",
      "body            10393\n",
      "transmission    51461\n",
      "state               0\n",
      "condition        9405\n",
      "odometer           69\n",
      "color             586\n",
      "interior          586\n",
      "seller              0\n",
      "sellingprice        0\n",
      "saledate            0\n",
      "dtype: int64\n"
     ]
    }
   ],
   "source": [
    "print(f'''Пропуски в данных:\n",
    "{autodate.isna().sum()}''')"
   ]
  },
  {
   "cell_type": "code",
   "execution_count": 215,
   "metadata": {
    "execution": {
     "iopub.execute_input": "2023-05-26T16:57:38.759046Z",
     "iopub.status.busy": "2023-05-26T16:57:38.758677Z",
     "iopub.status.idle": "2023-05-26T16:57:39.051608Z",
     "shell.execute_reply": "2023-05-26T16:57:39.050542Z",
     "shell.execute_reply.started": "2023-05-26T16:57:38.759011Z"
    }
   },
   "outputs": [
    {
     "name": "stdout",
     "output_type": "stream",
     "text": [
      "Пропуски в данных:\n",
      "year                0\n",
      "make             2061\n",
      "model            2079\n",
      "trim             2114\n",
      "body             2594\n",
      "transmission    13011\n",
      "state               0\n",
      "condition        2379\n",
      "odometer           19\n",
      "color             158\n",
      "interior          158\n",
      "seller              0\n",
      "saledate            0\n",
      "dtype: int64\n"
     ]
    }
   ],
   "source": [
    "print(f'''Пропуски в данных:\n",
    "{autodate_test.isna().sum()}''')"
   ]
  },
  {
   "attachments": {},
   "cell_type": "markdown",
   "metadata": {},
   "source": [
    "<h4>В обоих выборках похожие пропуски, поэтому методы устранения будут одинаковы.</h4>"
   ]
  },
  {
   "attachments": {},
   "cell_type": "markdown",
   "metadata": {},
   "source": [
    "<h3>1. Имеем пропуски в таких важных столбцах, как make, model, trim, body. Общий объем пропусков равен примерно 2%.</h3>\n",
    "<h4>Решение: Заполним данными самого распространенного типа Sedan для body  ближайшими по популярности для trim, model, make.</h4>"
   ]
  },
  {
   "cell_type": "code",
   "execution_count": 216,
   "metadata": {
    "execution": {
     "iopub.execute_input": "2023-05-26T16:57:40.778539Z",
     "iopub.status.busy": "2023-05-26T16:57:40.777825Z",
     "iopub.status.idle": "2023-05-26T16:57:41.362271Z",
     "shell.execute_reply": "2023-05-26T16:57:41.361305Z",
     "shell.execute_reply.started": "2023-05-26T16:57:40.778506Z"
    }
   },
   "outputs": [],
   "source": [
    "autodate = autodate.fillna({\"make\":\"Mazda\", \"model\":\"T\", \"trim\":\"fr\", \"body\": \"Sedan\"})\n",
    "autodate_test = autodate_test.fillna({\"make\":\"Mazda\", \"model\":\"T\", \"trim\":\"fr\", \"body\": \"Sedan\"})"
   ]
  },
  {
   "attachments": {},
   "cell_type": "markdown",
   "metadata": {},
   "source": [
    "<h3>2. Около 0.0001 отсутствующих значений в колонках с цветом color, interior.</h3>\n",
    "<h4>Решение: Заполним одним из ближайших по количеству значений, к этому полю.</h4>"
   ]
  },
  {
   "cell_type": "code",
   "execution_count": 217,
   "metadata": {
    "execution": {
     "iopub.execute_input": "2023-05-26T16:57:42.457973Z",
     "iopub.status.busy": "2023-05-26T16:57:42.457568Z",
     "iopub.status.idle": "2023-05-26T16:57:42.564798Z",
     "shell.execute_reply": "2023-05-26T16:57:42.563857Z",
     "shell.execute_reply.started": "2023-05-26T16:57:42.457942Z"
    }
   },
   "outputs": [],
   "source": [
    "autodate['color'] = autodate['color'].replace('—', 'green').fillna(value='yellow')\n",
    "autodate_test['color'] = autodate_test['color'].replace('—', 'green').fillna(value='yellow')"
   ]
  },
  {
   "cell_type": "code",
   "execution_count": 218,
   "metadata": {
    "execution": {
     "iopub.execute_input": "2023-05-26T16:57:43.289299Z",
     "iopub.status.busy": "2023-05-26T16:57:43.288657Z",
     "iopub.status.idle": "2023-05-26T16:57:43.388782Z",
     "shell.execute_reply": "2023-05-26T16:57:43.387835Z",
     "shell.execute_reply.started": "2023-05-26T16:57:43.289265Z"
    }
   },
   "outputs": [],
   "source": [
    "autodate['interior'] = autodate['interior'].replace('—', 'brown').fillna(value='silver')\n",
    "autodate_test['interior'] = autodate_test['interior'].replace('—', 'brown').fillna(value='silver')"
   ]
  },
  {
   "attachments": {},
   "cell_type": "markdown",
   "metadata": {},
   "source": [
    "<h3>3. По статистике в США более 95% авто снабжены АКПП.</h3>\n",
    "<h4>Решение: Заполним соответствующим значением колонку transmission.</h4>"
   ]
  },
  {
   "cell_type": "code",
   "execution_count": 219,
   "metadata": {
    "execution": {
     "iopub.execute_input": "2023-05-26T16:57:44.924010Z",
     "iopub.status.busy": "2023-05-26T16:57:44.923632Z",
     "iopub.status.idle": "2023-05-26T16:57:44.999030Z",
     "shell.execute_reply": "2023-05-26T16:57:44.998064Z",
     "shell.execute_reply.started": "2023-05-26T16:57:44.923979Z"
    }
   },
   "outputs": [],
   "source": [
    "autodate['transmission'] = autodate['transmission'].fillna(value='automatic')\n",
    "autodate_test['transmission'] = autodate_test['transmission'].fillna(value='automatic')"
   ]
  },
  {
   "attachments": {},
   "cell_type": "markdown",
   "metadata": {},
   "source": [
    "<h3>4. Поле condition имеет около 2% отсутствующих значений</h3>\n",
    "<h4>Решение: Заполним медианным значением.</h4>"
   ]
  },
  {
   "cell_type": "code",
   "execution_count": 220,
   "metadata": {
    "execution": {
     "iopub.execute_input": "2023-05-26T16:57:47.228623Z",
     "iopub.status.busy": "2023-05-26T16:57:47.227505Z",
     "iopub.status.idle": "2023-05-26T16:57:47.243145Z",
     "shell.execute_reply": "2023-05-26T16:57:47.241863Z",
     "shell.execute_reply.started": "2023-05-26T16:57:47.228585Z"
    }
   },
   "outputs": [],
   "source": [
    "autodate['condition'] = autodate['condition'].fillna(autodate['condition'].mean())\n",
    "autodate_test['condition'] = autodate_test['condition'].fillna(autodate['condition'].mean())"
   ]
  },
  {
   "attachments": {},
   "cell_type": "markdown",
   "metadata": {},
   "source": [
    "<h3>5. Поле odometer вообще имеет около 0.00015% пропусков</h3>\n",
    "<h4>Решение: Заполним средним значением.</h4>"
   ]
  },
  {
   "cell_type": "code",
   "execution_count": 221,
   "metadata": {
    "execution": {
     "iopub.execute_input": "2023-05-26T16:57:48.839466Z",
     "iopub.status.busy": "2023-05-26T16:57:48.838769Z",
     "iopub.status.idle": "2023-05-26T16:57:48.852070Z",
     "shell.execute_reply": "2023-05-26T16:57:48.851045Z",
     "shell.execute_reply.started": "2023-05-26T16:57:48.839431Z"
    }
   },
   "outputs": [],
   "source": [
    "autodate['odometer'] = autodate['odometer'].fillna(autodate['odometer'].mean())\n",
    "autodate_test['odometer'] = autodate_test['odometer'].fillna(autodate_test['odometer'].mean())"
   ]
  },
  {
   "cell_type": "code",
   "execution_count": 222,
   "metadata": {
    "execution": {
     "iopub.execute_input": "2023-05-26T16:57:49.635602Z",
     "iopub.status.busy": "2023-05-26T16:57:49.635263Z",
     "iopub.status.idle": "2023-05-26T16:57:49.642834Z",
     "shell.execute_reply": "2023-05-26T16:57:49.641529Z",
     "shell.execute_reply.started": "2023-05-26T16:57:49.635572Z"
    }
   },
   "outputs": [],
   "source": [
    "#autodate_test['odometer'] = autodate_test['odometer'].astype('float')"
   ]
  },
  {
   "cell_type": "code",
   "execution_count": 223,
   "metadata": {
    "execution": {
     "iopub.execute_input": "2023-05-26T16:57:50.424832Z",
     "iopub.status.busy": "2023-05-26T16:57:50.424394Z",
     "iopub.status.idle": "2023-05-26T16:57:50.437359Z",
     "shell.execute_reply": "2023-05-26T16:57:50.436024Z",
     "shell.execute_reply.started": "2023-05-26T16:57:50.424771Z"
    }
   },
   "outputs": [
    {
     "name": "stdout",
     "output_type": "stream",
     "text": [
      "<class 'pandas.core.series.Series'>\n",
      "RangeIndex: 110058 entries, 0 to 110057\n",
      "Series name: odometer\n",
      "Non-Null Count   Dtype  \n",
      "--------------   -----  \n",
      "110058 non-null  float64\n",
      "dtypes: float64(1)\n",
      "memory usage: 860.0 KB\n"
     ]
    }
   ],
   "source": [
    "autodate_test['odometer'].info()"
   ]
  },
  {
   "cell_type": "code",
   "execution_count": 224,
   "metadata": {
    "execution": {
     "iopub.execute_input": "2023-05-26T16:57:51.195624Z",
     "iopub.status.busy": "2023-05-26T16:57:51.195278Z",
     "iopub.status.idle": "2023-05-26T16:57:52.354146Z",
     "shell.execute_reply": "2023-05-26T16:57:52.353043Z",
     "shell.execute_reply.started": "2023-05-26T16:57:51.195594Z"
    }
   },
   "outputs": [
    {
     "name": "stdout",
     "output_type": "stream",
     "text": [
      "<class 'pandas.core.frame.DataFrame'>\n",
      "RangeIndex: 440236 entries, 0 to 440235\n",
      "Data columns (total 14 columns):\n",
      " #   Column        Non-Null Count   Dtype  \n",
      "---  ------        --------------   -----  \n",
      " 0   year          440236 non-null  int64  \n",
      " 1   make          440236 non-null  object \n",
      " 2   model         440236 non-null  object \n",
      " 3   trim          440236 non-null  object \n",
      " 4   body          440236 non-null  object \n",
      " 5   transmission  440236 non-null  object \n",
      " 6   state         440236 non-null  object \n",
      " 7   condition     440236 non-null  float64\n",
      " 8   odometer      440236 non-null  float64\n",
      " 9   color         440236 non-null  object \n",
      " 10  interior      440236 non-null  object \n",
      " 11  seller        440236 non-null  object \n",
      " 12  sellingprice  440236 non-null  int64  \n",
      " 13  saledate      440236 non-null  object \n",
      "dtypes: float64(2), int64(2), object(10)\n",
      "memory usage: 47.0+ MB\n"
     ]
    }
   ],
   "source": [
    "autodate.info()\n"
   ]
  },
  {
   "attachments": {},
   "cell_type": "markdown",
   "metadata": {},
   "source": [
    "<h3>Проверим</h3>"
   ]
  },
  {
   "cell_type": "code",
   "execution_count": 225,
   "metadata": {
    "execution": {
     "iopub.execute_input": "2023-05-26T16:57:54.867383Z",
     "iopub.status.busy": "2023-05-26T16:57:54.866981Z",
     "iopub.status.idle": "2023-05-26T16:57:56.117690Z",
     "shell.execute_reply": "2023-05-26T16:57:56.116507Z",
     "shell.execute_reply.started": "2023-05-26T16:57:54.867337Z"
    }
   },
   "outputs": [
    {
     "name": "stdout",
     "output_type": "stream",
     "text": [
      "Пропуски в данных x:\n",
      "year            0\n",
      "make            0\n",
      "model           0\n",
      "trim            0\n",
      "body            0\n",
      "transmission    0\n",
      "state           0\n",
      "condition       0\n",
      "odometer        0\n",
      "color           0\n",
      "interior        0\n",
      "seller          0\n",
      "sellingprice    0\n",
      "saledate        0\n",
      "dtype: int64\n"
     ]
    }
   ],
   "source": [
    "print(f'''Пропуски в данных x:\n",
    "{autodate.isna().sum()}''')"
   ]
  },
  {
   "cell_type": "code",
   "execution_count": 226,
   "metadata": {
    "execution": {
     "iopub.execute_input": "2023-05-26T16:57:57.786113Z",
     "iopub.status.busy": "2023-05-26T16:57:57.785466Z",
     "iopub.status.idle": "2023-05-26T16:57:58.079670Z",
     "shell.execute_reply": "2023-05-26T16:57:58.078850Z",
     "shell.execute_reply.started": "2023-05-26T16:57:57.786071Z"
    }
   },
   "outputs": [
    {
     "name": "stdout",
     "output_type": "stream",
     "text": [
      "Пропуски в данных x:\n",
      "year            0\n",
      "make            0\n",
      "model           0\n",
      "trim            0\n",
      "body            0\n",
      "transmission    0\n",
      "state           0\n",
      "condition       0\n",
      "odometer        0\n",
      "color           0\n",
      "interior        0\n",
      "seller          0\n",
      "saledate        0\n",
      "dtype: int64\n"
     ]
    }
   ],
   "source": [
    "print(f'''Пропуски в данных x:\n",
    "{autodate_test.isna().sum()}''')"
   ]
  },
  {
   "attachments": {},
   "cell_type": "markdown",
   "metadata": {},
   "source": [
    "<h3>Посмотрим на рейтинг элементов в категориальных полях</h3>"
   ]
  },
  {
   "cell_type": "code",
   "execution_count": 227,
   "metadata": {},
   "outputs": [],
   "source": [
    "# Гистограмма для 5-ти самых частых значений    \n",
    "def bar(data, column):\n",
    "    \"\"\"\n",
    "    График для категориальных полей\n",
    "    \"\"\"\n",
    "    fig, axes = plt.subplots(figsize=(6, 3))\n",
    "    \n",
    "    sns.barplot(x=data[column].astype(str).value_counts().index[:40],\n",
    "                y=data[column].value_counts(normalize=True).values[:40],\n",
    "                palette='magma')\n",
    "    plt.title(f'Рейтинг популярности в категории \"{column}\"',\n",
    "              size=15)\n",
    "    plt.ylabel('Persent')\n",
    "    \n",
    "    plt.xticks(rotation=90)\n",
    "    plt.subplots_adjust(wspace=0.2);"
   ]
  },
  {
   "cell_type": "code",
   "execution_count": 228,
   "metadata": {},
   "outputs": [
    {
     "data": {
      "image/png": "[encoded data removed]",
      "text/plain": [
       "<Figure size 432x216 with 1 Axes>"
      ]
     },
     "metadata": {
      "needs_background": "light"
     },
     "output_type": "display_data"
    }
   ],
   "source": [
    "bar(autodate,'make')"
   ]
  },
  {
   "cell_type": "code",
   "execution_count": 229,
   "metadata": {},
   "outputs": [
    {
     "data": {
      "image/png": "[encoded data removed]",
      "text/plain": [
       "<Figure size 432x216 with 1 Axes>"
      ]
     },
     "metadata": {
      "needs_background": "light"
     },
     "output_type": "display_data"
    }
   ],
   "source": [
    "bar(autodate,'body')"
   ]
  },
  {
   "cell_type": "code",
   "execution_count": 230,
   "metadata": {},
   "outputs": [
    {
     "data": {
      "image/png": "[encoded data removed]",
      "text/plain": [
       "<Figure size 432x216 with 1 Axes>"
      ]
     },
     "metadata": {
      "needs_background": "light"
     },
     "output_type": "display_data"
    }
   ],
   "source": [
    "bar(autodate,'color')"
   ]
  },
  {
   "cell_type": "code",
   "execution_count": 231,
   "metadata": {},
   "outputs": [
    {
     "data": {
      "image/png": "[encoded data removed]",
      "text/plain": [
       "<Figure size 432x216 with 1 Axes>"
      ]
     },
     "metadata": {
      "needs_background": "light"
     },
     "output_type": "display_data"
    }
   ],
   "source": [
    "bar(autodate,'interior')"
   ]
  },
  {
   "cell_type": "code",
   "execution_count": 232,
   "metadata": {},
   "outputs": [
    {
     "data": {
      "image/png": "[encoded data removed]",
      "text/plain": [
       "<Figure size 432x216 with 1 Axes>"
      ]
     },
     "metadata": {
      "needs_background": "light"
     },
     "output_type": "display_data"
    }
   ],
   "source": [
    "bar(autodate,'seller')"
   ]
  },
  {
   "cell_type": "code",
   "execution_count": 233,
   "metadata": {},
   "outputs": [
    {
     "data": {
      "image/png": "[encoded data removed]",
      "text/plain": [
       "<Figure size 432x216 with 1 Axes>"
      ]
     },
     "metadata": {
      "needs_background": "light"
     },
     "output_type": "display_data"
    }
   ],
   "source": [
    "bar(autodate,'model')"
   ]
  },
  {
   "cell_type": "code",
   "execution_count": 234,
   "metadata": {},
   "outputs": [
    {
     "data": {
      "image/png": "[encoded data removed]",
      "text/plain": [
       "<Figure size 432x216 with 1 Axes>"
      ]
     },
     "metadata": {
      "needs_background": "light"
     },
     "output_type": "display_data"
    }
   ],
   "source": [
    "bar(autodate,'trim')"
   ]
  },
  {
   "attachments": {},
   "cell_type": "markdown",
   "metadata": {},
   "source": [
    "<h4>Проверим поля с большим объемом уникальных значений</h4>"
   ]
  },
  {
   "cell_type": "code",
   "execution_count": 235,
   "metadata": {},
   "outputs": [
    {
     "data": {
      "text/plain": [
       "model\n",
       "1 Series     1\n",
       "1500         1\n",
       "190-Class    1\n",
       "2 Series     1\n",
       "200          1\n",
       "            ..\n",
       "xA           1\n",
       "xB           1\n",
       "xD           1\n",
       "yaris        1\n",
       "yukon        1\n",
       "Name: model, Length: 960, dtype: int64"
      ]
     },
     "execution_count": 235,
     "metadata": {},
     "output_type": "execute_result"
    }
   ],
   "source": [
    "(autodate.groupby('model')['model'].nunique())"
   ]
  },
  {
   "cell_type": "code",
   "execution_count": 236,
   "metadata": {},
   "outputs": [
    {
     "data": {
      "text/plain": [
       "trim\n",
       "!                     1\n",
       "& coun fwd            1\n",
       "& coun fwd limited    1\n",
       "& coun fwd lx         1\n",
       "& country lx          1\n",
       "                     ..\n",
       "xr                    1\n",
       "xr-7                  1\n",
       "yuk xl 4x2 slt        1\n",
       "z06                   1\n",
       "zx3                   1\n",
       "Name: trim, Length: 1923, dtype: int64"
      ]
     },
     "execution_count": 236,
     "metadata": {},
     "output_type": "execute_result"
    }
   ],
   "source": [
    "(autodate.groupby('trim')['trim'].nunique())"
   ]
  },
  {
   "cell_type": "code",
   "execution_count": 237,
   "metadata": {},
   "outputs": [
    {
     "data": {
      "text/plain": [
       "seller\n",
       "1 cochran of monroeville    1\n",
       "1 for all auto sales        1\n",
       "1360250 alberta ltd.        1\n",
       "138 auto inc                1\n",
       "143 auto sales inc          1\n",
       "                           ..\n",
       "zippy rent a car llc        1\n",
       "zmax moto leasing inc       1\n",
       "zonemotors.com inc          1\n",
       "zoom auto                   1\n",
       "zygi auto corp              1\n",
       "Name: seller, Length: 13025, dtype: int64"
      ]
     },
     "execution_count": 237,
     "metadata": {},
     "output_type": "execute_result"
    }
   ],
   "source": [
    "(autodate.groupby('seller')['seller'].nunique())"
   ]
  },
  {
   "attachments": {},
   "cell_type": "markdown",
   "metadata": {},
   "source": [
    "<h4>Исходя из рейтинга поля trim, видно что 10% занимает значение base, а так как ни одна из марок не имеет такой популярности и такое значение может отностися к разным маркам, то это может создать дополнительные помехи при обучении. Исключим ее из дальнейшей обработки, равно как и колонку seller, которая имеет более 13000 уникальных значений, с максимальным процентом 3,5% от общего количества ретеллеров. Это практически равномерное распрелеление по стране. Предположу, что это не является показателем при формировании цены.</h4>"
   ]
  },
  {
   "cell_type": "code",
   "execution_count": 238,
   "metadata": {
    "execution": {
     "iopub.execute_input": "2023-05-26T16:57:58.526717Z",
     "iopub.status.busy": "2023-05-26T16:57:58.525701Z",
     "iopub.status.idle": "2023-05-26T16:57:58.545730Z",
     "shell.execute_reply": "2023-05-26T16:57:58.544450Z",
     "shell.execute_reply.started": "2023-05-26T16:57:58.526659Z"
    }
   },
   "outputs": [
    {
     "data": {
      "text/html": [
       "<div>\n",
       "<style scoped>\n",
       "    .dataframe tbody tr th:only-of-type {\n",
       "        vertical-align: middle;\n",
       "    }\n",
       "\n",
       "    .dataframe tbody tr th {\n",
       "        vertical-align: top;\n",
       "    }\n",
       "\n",
       "    .dataframe thead th {\n",
       "        text-align: right;\n",
       "    }\n",
       "</style>\n",
       "<table border=\"1\" class=\"dataframe\">\n",
       "  <thead>\n",
       "    <tr style=\"text-align: right;\">\n",
       "      <th></th>\n",
       "      <th>year</th>\n",
       "      <th>make</th>\n",
       "      <th>model</th>\n",
       "      <th>trim</th>\n",
       "      <th>body</th>\n",
       "      <th>transmission</th>\n",
       "      <th>state</th>\n",
       "      <th>condition</th>\n",
       "      <th>odometer</th>\n",
       "      <th>color</th>\n",
       "      <th>interior</th>\n",
       "      <th>seller</th>\n",
       "      <th>sellingprice</th>\n",
       "      <th>saledate</th>\n",
       "    </tr>\n",
       "  </thead>\n",
       "  <tbody>\n",
       "    <tr>\n",
       "      <th>0</th>\n",
       "      <td>2011</td>\n",
       "      <td>Ford</td>\n",
       "      <td>Edge</td>\n",
       "      <td>SEL</td>\n",
       "      <td>SUV</td>\n",
       "      <td>automatic</td>\n",
       "      <td>md</td>\n",
       "      <td>4.2</td>\n",
       "      <td>111041.0</td>\n",
       "      <td>black</td>\n",
       "      <td>black</td>\n",
       "      <td>santander consumer</td>\n",
       "      <td>12500</td>\n",
       "      <td>2015-06-01</td>\n",
       "    </tr>\n",
       "    <tr>\n",
       "      <th>1</th>\n",
       "      <td>2014</td>\n",
       "      <td>Ford</td>\n",
       "      <td>Fusion</td>\n",
       "      <td>SE</td>\n",
       "      <td>Sedan</td>\n",
       "      <td>automatic</td>\n",
       "      <td>mo</td>\n",
       "      <td>3.5</td>\n",
       "      <td>31034.0</td>\n",
       "      <td>black</td>\n",
       "      <td>black</td>\n",
       "      <td>ars/avis budget group</td>\n",
       "      <td>14500</td>\n",
       "      <td>2015-02-24</td>\n",
       "    </tr>\n",
       "    <tr>\n",
       "      <th>2</th>\n",
       "      <td>2012</td>\n",
       "      <td>Nissan</td>\n",
       "      <td>Sentra</td>\n",
       "      <td>2.0 SL</td>\n",
       "      <td>Sedan</td>\n",
       "      <td>automatic</td>\n",
       "      <td>nj</td>\n",
       "      <td>2.2</td>\n",
       "      <td>35619.0</td>\n",
       "      <td>black</td>\n",
       "      <td>black</td>\n",
       "      <td>nissan-infiniti lt</td>\n",
       "      <td>9100</td>\n",
       "      <td>2015-06-09</td>\n",
       "    </tr>\n",
       "    <tr>\n",
       "      <th>3</th>\n",
       "      <td>2003</td>\n",
       "      <td>HUMMER</td>\n",
       "      <td>H2</td>\n",
       "      <td>Base</td>\n",
       "      <td>SUV</td>\n",
       "      <td>automatic</td>\n",
       "      <td>tx</td>\n",
       "      <td>2.8</td>\n",
       "      <td>131301.0</td>\n",
       "      <td>gold</td>\n",
       "      <td>beige</td>\n",
       "      <td>wichita falls ford lin inc</td>\n",
       "      <td>13300</td>\n",
       "      <td>2015-06-16</td>\n",
       "    </tr>\n",
       "    <tr>\n",
       "      <th>4</th>\n",
       "      <td>2007</td>\n",
       "      <td>Ford</td>\n",
       "      <td>Fusion</td>\n",
       "      <td>SEL</td>\n",
       "      <td>Sedan</td>\n",
       "      <td>automatic</td>\n",
       "      <td>md</td>\n",
       "      <td>2.0</td>\n",
       "      <td>127709.0</td>\n",
       "      <td>black</td>\n",
       "      <td>black</td>\n",
       "      <td>purple heart</td>\n",
       "      <td>1300</td>\n",
       "      <td>2015-02-02</td>\n",
       "    </tr>\n",
       "  </tbody>\n",
       "</table>\n",
       "</div>"
      ],
      "text/plain": [
       "   year    make   model    trim   body transmission state  condition  \\\n",
       "0  2011    Ford    Edge     SEL    SUV    automatic    md        4.2   \n",
       "1  2014    Ford  Fusion      SE  Sedan    automatic    mo        3.5   \n",
       "2  2012  Nissan  Sentra  2.0 SL  Sedan    automatic    nj        2.2   \n",
       "3  2003  HUMMER      H2    Base    SUV    automatic    tx        2.8   \n",
       "4  2007    Ford  Fusion     SEL  Sedan    automatic    md        2.0   \n",
       "\n",
       "   odometer  color interior                      seller  sellingprice  \\\n",
       "0  111041.0  black    black          santander consumer         12500   \n",
       "1   31034.0  black    black       ars/avis budget group         14500   \n",
       "2   35619.0  black    black          nissan-infiniti lt          9100   \n",
       "3  131301.0   gold    beige  wichita falls ford lin inc         13300   \n",
       "4  127709.0  black    black                purple heart          1300   \n",
       "\n",
       "     saledate  \n",
       "0  2015-06-01  \n",
       "1  2015-02-24  \n",
       "2  2015-06-09  \n",
       "3  2015-06-16  \n",
       "4  2015-02-02  "
      ]
     },
     "execution_count": 238,
     "metadata": {},
     "output_type": "execute_result"
    }
   ],
   "source": [
    "autodate.head()"
   ]
  },
  {
   "cell_type": "code",
   "execution_count": 42,
   "metadata": {
    "execution": {
     "iopub.execute_input": "2023-05-26T16:57:59.567693Z",
     "iopub.status.busy": "2023-05-26T16:57:59.566929Z",
     "iopub.status.idle": "2023-05-26T16:57:59.590019Z",
     "shell.execute_reply": "2023-05-26T16:57:59.588969Z",
     "shell.execute_reply.started": "2023-05-26T16:57:59.567654Z"
    }
   },
   "outputs": [
    {
     "data": {
      "text/html": [
       "<div>\n",
       "<style scoped>\n",
       "    .dataframe tbody tr th:only-of-type {\n",
       "        vertical-align: middle;\n",
       "    }\n",
       "\n",
       "    .dataframe tbody tr th {\n",
       "        vertical-align: top;\n",
       "    }\n",
       "\n",
       "    .dataframe thead th {\n",
       "        text-align: right;\n",
       "    }\n",
       "</style>\n",
       "<table border=\"1\" class=\"dataframe\">\n",
       "  <thead>\n",
       "    <tr style=\"text-align: right;\">\n",
       "      <th></th>\n",
       "      <th>year</th>\n",
       "      <th>make</th>\n",
       "      <th>model</th>\n",
       "      <th>trim</th>\n",
       "      <th>body</th>\n",
       "      <th>transmission</th>\n",
       "      <th>state</th>\n",
       "      <th>condition</th>\n",
       "      <th>odometer</th>\n",
       "      <th>color</th>\n",
       "      <th>interior</th>\n",
       "      <th>seller</th>\n",
       "      <th>saledate</th>\n",
       "    </tr>\n",
       "  </thead>\n",
       "  <tbody>\n",
       "    <tr>\n",
       "      <th>0</th>\n",
       "      <td>2005</td>\n",
       "      <td>Cadillac</td>\n",
       "      <td>CTS</td>\n",
       "      <td>Base</td>\n",
       "      <td>Sedan</td>\n",
       "      <td>automatic</td>\n",
       "      <td>ca</td>\n",
       "      <td>2.7</td>\n",
       "      <td>116970.0</td>\n",
       "      <td>silver</td>\n",
       "      <td>black</td>\n",
       "      <td>lexus of stevens creek</td>\n",
       "      <td>2015-01-13</td>\n",
       "    </tr>\n",
       "    <tr>\n",
       "      <th>1</th>\n",
       "      <td>2014</td>\n",
       "      <td>GMC</td>\n",
       "      <td>Savana Cargo</td>\n",
       "      <td>2500</td>\n",
       "      <td>Minivan</td>\n",
       "      <td>NaN</td>\n",
       "      <td>pa</td>\n",
       "      <td>4.4</td>\n",
       "      <td>6286.0</td>\n",
       "      <td>white</td>\n",
       "      <td>gray</td>\n",
       "      <td>u-haul</td>\n",
       "      <td>2015-02-26</td>\n",
       "    </tr>\n",
       "    <tr>\n",
       "      <th>2</th>\n",
       "      <td>2013</td>\n",
       "      <td>Nissan</td>\n",
       "      <td>Murano</td>\n",
       "      <td>S</td>\n",
       "      <td>SUV</td>\n",
       "      <td>automatic</td>\n",
       "      <td>oh</td>\n",
       "      <td>4.6</td>\n",
       "      <td>11831.0</td>\n",
       "      <td>gray</td>\n",
       "      <td>black</td>\n",
       "      <td>nissan-infiniti lt</td>\n",
       "      <td>2015-02-23</td>\n",
       "    </tr>\n",
       "    <tr>\n",
       "      <th>3</th>\n",
       "      <td>2013</td>\n",
       "      <td>Chevrolet</td>\n",
       "      <td>Impala</td>\n",
       "      <td>LS Fleet</td>\n",
       "      <td>Sedan</td>\n",
       "      <td>automatic</td>\n",
       "      <td>fl</td>\n",
       "      <td>2.3</td>\n",
       "      <td>57105.0</td>\n",
       "      <td>silver</td>\n",
       "      <td>black</td>\n",
       "      <td>onemain rem/auto club of miami inc dba north dad</td>\n",
       "      <td>2015-03-05</td>\n",
       "    </tr>\n",
       "    <tr>\n",
       "      <th>4</th>\n",
       "      <td>2013</td>\n",
       "      <td>Nissan</td>\n",
       "      <td>Titan</td>\n",
       "      <td>SV</td>\n",
       "      <td>Cab</td>\n",
       "      <td>automatic</td>\n",
       "      <td>tn</td>\n",
       "      <td>2.9</td>\n",
       "      <td>31083.0</td>\n",
       "      <td>black</td>\n",
       "      <td>black</td>\n",
       "      <td>nissan north america inc.</td>\n",
       "      <td>2015-06-02</td>\n",
       "    </tr>\n",
       "  </tbody>\n",
       "</table>\n",
       "</div>"
      ],
      "text/plain": [
       "   year       make         model      trim     body transmission state  \\\n",
       "0  2005   Cadillac           CTS      Base    Sedan    automatic    ca   \n",
       "1  2014        GMC  Savana Cargo      2500  Minivan          NaN    pa   \n",
       "2  2013     Nissan        Murano         S      SUV    automatic    oh   \n",
       "3  2013  Chevrolet        Impala  LS Fleet    Sedan    automatic    fl   \n",
       "4  2013     Nissan         Titan        SV      Cab    automatic    tn   \n",
       "\n",
       "   condition  odometer   color interior  \\\n",
       "0        2.7  116970.0  silver    black   \n",
       "1        4.4    6286.0   white     gray   \n",
       "2        4.6   11831.0    gray    black   \n",
       "3        2.3   57105.0  silver    black   \n",
       "4        2.9   31083.0   black    black   \n",
       "\n",
       "                                             seller    saledate  \n",
       "0                            lexus of stevens creek  2015-01-13  \n",
       "1                                            u-haul  2015-02-26  \n",
       "2                                nissan-infiniti lt  2015-02-23  \n",
       "3  onemain rem/auto club of miami inc dba north dad  2015-03-05  \n",
       "4                         nissan north america inc.  2015-06-02  "
      ]
     },
     "execution_count": 42,
     "metadata": {},
     "output_type": "execute_result"
    }
   ],
   "source": [
    "autodate_test.head()"
   ]
  },
  {
   "attachments": {},
   "cell_type": "markdown",
   "metadata": {},
   "source": [
    "# 3. Разработка синтетических данных"
   ]
  },
  {
   "attachments": {},
   "cell_type": "markdown",
   "metadata": {},
   "source": [
    "<h4>Разложим дату на дополнительные фитчи</h4>"
   ]
  },
  {
   "cell_type": "code",
   "execution_count": 240,
   "metadata": {
    "execution": {
     "iopub.execute_input": "2023-05-26T16:58:02.093120Z",
     "iopub.status.busy": "2023-05-26T16:58:02.092747Z",
     "iopub.status.idle": "2023-05-26T16:58:02.780081Z",
     "shell.execute_reply": "2023-05-26T16:58:02.779134Z",
     "shell.execute_reply.started": "2023-05-26T16:58:02.093092Z"
    }
   },
   "outputs": [],
   "source": [
    "# Для трейна\n",
    "autodate['sl_year'] = pd.to_datetime(autodate['saledate'], utc=True).dt.year\n",
    "autodate['sl_quarter'] = pd.to_datetime(autodate['saledate'], utc=True).dt.quarter\n",
    "autodate['s_month'] = pd.to_datetime(autodate['saledate'], utc=True).dt.month\n",
    "autodate['sl_weekday'] = pd.to_datetime(autodate['saledate'], utc=True).dt.weekday\n",
    "autodate['s_day'] = pd.to_datetime(autodate['saledate'], utc=True).dt.day"
   ]
  },
  {
   "cell_type": "code",
   "execution_count": 241,
   "metadata": {
    "execution": {
     "iopub.execute_input": "2023-05-26T16:58:02.951716Z",
     "iopub.status.busy": "2023-05-26T16:58:02.951383Z",
     "iopub.status.idle": "2023-05-26T16:58:03.133743Z",
     "shell.execute_reply": "2023-05-26T16:58:03.132843Z",
     "shell.execute_reply.started": "2023-05-26T16:58:02.951688Z"
    }
   },
   "outputs": [],
   "source": [
    "#Для теста\n",
    "autodate_test['sl_year'] = pd.to_datetime(autodate_test['saledate'], utc=True).dt.year\n",
    "autodate_test['sl_quarter'] = pd.to_datetime(autodate_test['saledate'], utc=True).dt.quarter\n",
    "autodate_test['s_month'] = pd.to_datetime(autodate_test['saledate'], utc=True).dt.month\n",
    "autodate_test['sl_weekday'] = pd.to_datetime(autodate_test['saledate'], utc=True).dt.weekday\n",
    "autodate_test['s_day'] = pd.to_datetime(autodate_test['saledate'], utc=True).dt.day"
   ]
  },
  {
   "cell_type": "code",
   "execution_count": 242,
   "metadata": {},
   "outputs": [],
   "source": [
    "#Создадим новый признак - возраст\n",
    "age = autodate['sl_year'] - autodate['year']\n",
    "age_t = autodate_test['sl_year'] - autodate_test['year']"
   ]
  },
  {
   "cell_type": "code",
   "execution_count": 243,
   "metadata": {
    "execution": {
     "iopub.execute_input": "2023-05-26T16:58:03.781596Z",
     "iopub.status.busy": "2023-05-26T16:58:03.781225Z",
     "iopub.status.idle": "2023-05-26T16:58:03.799831Z",
     "shell.execute_reply": "2023-05-26T16:58:03.798770Z",
     "shell.execute_reply.started": "2023-05-26T16:58:03.781566Z"
    }
   },
   "outputs": [
    {
     "data": {
      "text/html": [
       "<div>\n",
       "<style scoped>\n",
       "    .dataframe tbody tr th:only-of-type {\n",
       "        vertical-align: middle;\n",
       "    }\n",
       "\n",
       "    .dataframe tbody tr th {\n",
       "        vertical-align: top;\n",
       "    }\n",
       "\n",
       "    .dataframe thead th {\n",
       "        text-align: right;\n",
       "    }\n",
       "</style>\n",
       "<table border=\"1\" class=\"dataframe\">\n",
       "  <thead>\n",
       "    <tr style=\"text-align: right;\">\n",
       "      <th></th>\n",
       "      <th>s_day</th>\n",
       "      <th>sl_weekday</th>\n",
       "      <th>s_month</th>\n",
       "      <th>sl_quarter</th>\n",
       "      <th>sl_year</th>\n",
       "      <th>age</th>\n",
       "    </tr>\n",
       "  </thead>\n",
       "  <tbody>\n",
       "    <tr>\n",
       "      <th>0</th>\n",
       "      <td>1</td>\n",
       "      <td>0</td>\n",
       "      <td>6</td>\n",
       "      <td>2</td>\n",
       "      <td>2015</td>\n",
       "      <td>4</td>\n",
       "    </tr>\n",
       "    <tr>\n",
       "      <th>1</th>\n",
       "      <td>24</td>\n",
       "      <td>1</td>\n",
       "      <td>2</td>\n",
       "      <td>1</td>\n",
       "      <td>2015</td>\n",
       "      <td>1</td>\n",
       "    </tr>\n",
       "    <tr>\n",
       "      <th>2</th>\n",
       "      <td>9</td>\n",
       "      <td>1</td>\n",
       "      <td>6</td>\n",
       "      <td>2</td>\n",
       "      <td>2015</td>\n",
       "      <td>3</td>\n",
       "    </tr>\n",
       "    <tr>\n",
       "      <th>3</th>\n",
       "      <td>16</td>\n",
       "      <td>1</td>\n",
       "      <td>6</td>\n",
       "      <td>2</td>\n",
       "      <td>2015</td>\n",
       "      <td>12</td>\n",
       "    </tr>\n",
       "    <tr>\n",
       "      <th>4</th>\n",
       "      <td>2</td>\n",
       "      <td>0</td>\n",
       "      <td>2</td>\n",
       "      <td>1</td>\n",
       "      <td>2015</td>\n",
       "      <td>8</td>\n",
       "    </tr>\n",
       "  </tbody>\n",
       "</table>\n",
       "</div>"
      ],
      "text/plain": [
       "   s_day  sl_weekday  s_month  sl_quarter  sl_year  age\n",
       "0      1           0        6           2     2015    4\n",
       "1     24           1        2           1     2015    1\n",
       "2      9           1        6           2     2015    3\n",
       "3     16           1        6           2     2015   12\n",
       "4      2           0        2           1     2015    8"
      ]
     },
     "execution_count": 243,
     "metadata": {},
     "output_type": "execute_result"
    }
   ],
   "source": [
    "date_decomp = pd.DataFrame({'s_day': autodate['s_day'],'sl_weekday': autodate['sl_weekday'],'s_month': autodate['s_month'], 'sl_quarter': autodate['sl_quarter'],'sl_year':autodate['sl_year'], 'age': age })\n",
    "date_decomp.head()"
   ]
  },
  {
   "cell_type": "code",
   "execution_count": 244,
   "metadata": {
    "execution": {
     "iopub.execute_input": "2023-05-26T16:58:04.589616Z",
     "iopub.status.busy": "2023-05-26T16:58:04.589261Z",
     "iopub.status.idle": "2023-05-26T16:58:04.605689Z",
     "shell.execute_reply": "2023-05-26T16:58:04.604552Z",
     "shell.execute_reply.started": "2023-05-26T16:58:04.589587Z"
    }
   },
   "outputs": [
    {
     "data": {
      "text/html": [
       "<div>\n",
       "<style scoped>\n",
       "    .dataframe tbody tr th:only-of-type {\n",
       "        vertical-align: middle;\n",
       "    }\n",
       "\n",
       "    .dataframe tbody tr th {\n",
       "        vertical-align: top;\n",
       "    }\n",
       "\n",
       "    .dataframe thead th {\n",
       "        text-align: right;\n",
       "    }\n",
       "</style>\n",
       "<table border=\"1\" class=\"dataframe\">\n",
       "  <thead>\n",
       "    <tr style=\"text-align: right;\">\n",
       "      <th></th>\n",
       "      <th>s_day</th>\n",
       "      <th>sl_weekday</th>\n",
       "      <th>s_month</th>\n",
       "      <th>sl_quarter</th>\n",
       "      <th>sl_year</th>\n",
       "      <th>age</th>\n",
       "    </tr>\n",
       "  </thead>\n",
       "  <tbody>\n",
       "    <tr>\n",
       "      <th>0</th>\n",
       "      <td>13</td>\n",
       "      <td>1</td>\n",
       "      <td>1</td>\n",
       "      <td>1</td>\n",
       "      <td>2015</td>\n",
       "      <td>10</td>\n",
       "    </tr>\n",
       "    <tr>\n",
       "      <th>1</th>\n",
       "      <td>26</td>\n",
       "      <td>3</td>\n",
       "      <td>2</td>\n",
       "      <td>1</td>\n",
       "      <td>2015</td>\n",
       "      <td>1</td>\n",
       "    </tr>\n",
       "    <tr>\n",
       "      <th>2</th>\n",
       "      <td>23</td>\n",
       "      <td>0</td>\n",
       "      <td>2</td>\n",
       "      <td>1</td>\n",
       "      <td>2015</td>\n",
       "      <td>2</td>\n",
       "    </tr>\n",
       "    <tr>\n",
       "      <th>3</th>\n",
       "      <td>5</td>\n",
       "      <td>3</td>\n",
       "      <td>3</td>\n",
       "      <td>1</td>\n",
       "      <td>2015</td>\n",
       "      <td>2</td>\n",
       "    </tr>\n",
       "    <tr>\n",
       "      <th>4</th>\n",
       "      <td>2</td>\n",
       "      <td>1</td>\n",
       "      <td>6</td>\n",
       "      <td>2</td>\n",
       "      <td>2015</td>\n",
       "      <td>2</td>\n",
       "    </tr>\n",
       "  </tbody>\n",
       "</table>\n",
       "</div>"
      ],
      "text/plain": [
       "   s_day  sl_weekday  s_month  sl_quarter  sl_year  age\n",
       "0     13           1        1           1     2015   10\n",
       "1     26           3        2           1     2015    1\n",
       "2     23           0        2           1     2015    2\n",
       "3      5           3        3           1     2015    2\n",
       "4      2           1        6           2     2015    2"
      ]
     },
     "execution_count": 244,
     "metadata": {},
     "output_type": "execute_result"
    }
   ],
   "source": [
    "date_decomp_test = pd.DataFrame({'s_day': autodate_test['s_day'],'sl_weekday': autodate_test['sl_weekday'],'s_month': autodate_test['s_month'], 'sl_quarter': autodate_test['sl_quarter'],'sl_year':autodate_test['sl_year'], 'age': age_t})\n",
    "date_decomp_test.head()"
   ]
  },
  {
   "cell_type": "code",
   "execution_count": 245,
   "metadata": {
    "execution": {
     "iopub.execute_input": "2023-05-26T16:58:05.356201Z",
     "iopub.status.busy": "2023-05-26T16:58:05.355861Z",
     "iopub.status.idle": "2023-05-26T16:58:06.514758Z",
     "shell.execute_reply": "2023-05-26T16:58:06.513798Z",
     "shell.execute_reply.started": "2023-05-26T16:58:05.356176Z"
    }
   },
   "outputs": [
    {
     "name": "stdout",
     "output_type": "stream",
     "text": [
      "<class 'pandas.core.frame.DataFrame'>\n",
      "RangeIndex: 440236 entries, 0 to 440235\n",
      "Data columns (total 19 columns):\n",
      " #   Column        Non-Null Count   Dtype  \n",
      "---  ------        --------------   -----  \n",
      " 0   year          440236 non-null  int64  \n",
      " 1   make          440236 non-null  object \n",
      " 2   model         440236 non-null  object \n",
      " 3   trim          440236 non-null  object \n",
      " 4   body          440236 non-null  object \n",
      " 5   transmission  440236 non-null  object \n",
      " 6   state         440236 non-null  object \n",
      " 7   condition     440236 non-null  float64\n",
      " 8   odometer      440236 non-null  float64\n",
      " 9   color         440236 non-null  object \n",
      " 10  interior      440236 non-null  object \n",
      " 11  seller        440236 non-null  object \n",
      " 12  sellingprice  440236 non-null  int64  \n",
      " 13  saledate      440236 non-null  object \n",
      " 14  sl_year       440236 non-null  int64  \n",
      " 15  sl_quarter    440236 non-null  int64  \n",
      " 16  s_month       440236 non-null  int64  \n",
      " 17  sl_weekday    440236 non-null  int64  \n",
      " 18  s_day         440236 non-null  int64  \n",
      "dtypes: float64(2), int64(7), object(10)\n",
      "memory usage: 63.8+ MB\n"
     ]
    }
   ],
   "source": [
    "autodate.info()"
   ]
  },
  {
   "attachments": {},
   "cell_type": "markdown",
   "metadata": {},
   "source": [
    "<h3>Подготовим данные к обучению моделью</h3>"
   ]
  },
  {
   "cell_type": "code",
   "execution_count": 246,
   "metadata": {
    "execution": {
     "iopub.execute_input": "2023-05-26T16:58:06.516970Z",
     "iopub.status.busy": "2023-05-26T16:58:06.516606Z",
     "iopub.status.idle": "2023-05-26T16:58:06.662014Z",
     "shell.execute_reply": "2023-05-26T16:58:06.660580Z",
     "shell.execute_reply.started": "2023-05-26T16:58:06.516937Z"
    }
   },
   "outputs": [],
   "source": [
    "#Сбросим первоначальный стоблец с датой\n",
    "autodate.drop(columns='saledate', inplace=True)\n",
    "autodate_test.drop(columns='saledate', inplace=True)"
   ]
  },
  {
   "cell_type": "code",
   "execution_count": 247,
   "metadata": {},
   "outputs": [],
   "source": [
    "#Сбросим столбец seller\n",
    "autodate.drop(columns='seller', inplace=True)\n",
    "autodate_test.drop(columns='seller', inplace=True)"
   ]
  },
  {
   "cell_type": "code",
   "execution_count": 248,
   "metadata": {},
   "outputs": [],
   "source": [
    "#Сбросим столбец trim\n",
    "autodate.drop(columns='trim', inplace=True)\n",
    "autodate_test.drop(columns='trim', inplace=True)"
   ]
  },
  {
   "cell_type": "code",
   "execution_count": 251,
   "metadata": {
    "execution": {
     "iopub.execute_input": "2023-05-26T16:58:06.925361Z",
     "iopub.status.busy": "2023-05-26T16:58:06.925030Z",
     "iopub.status.idle": "2023-05-26T16:58:07.108299Z",
     "shell.execute_reply": "2023-05-26T16:58:07.107259Z",
     "shell.execute_reply.started": "2023-05-26T16:58:06.925335Z"
    }
   },
   "outputs": [],
   "source": [
    "# Разделим категориальные и количественные признаки в два разных датафрейма для теста\n",
    "autodate_cat = autodate[['make', 'model', 'body', 'transmission', 'state','color', 'interior']] \n",
    "autodate_col = autodate[['year', 'condition', 'odometer', 'sellingprice']] "
   ]
  },
  {
   "cell_type": "code",
   "execution_count": 252,
   "metadata": {
    "execution": {
     "iopub.execute_input": "2023-05-26T16:58:07.725023Z",
     "iopub.status.busy": "2023-05-26T16:58:07.723899Z",
     "iopub.status.idle": "2023-05-26T16:58:08.751320Z",
     "shell.execute_reply": "2023-05-26T16:58:08.750276Z",
     "shell.execute_reply.started": "2023-05-26T16:58:07.724979Z"
    }
   },
   "outputs": [
    {
     "name": "stdout",
     "output_type": "stream",
     "text": [
      "<class 'pandas.core.frame.DataFrame'>\n",
      "RangeIndex: 440236 entries, 0 to 440235\n",
      "Data columns (total 16 columns):\n",
      " #   Column        Non-Null Count   Dtype  \n",
      "---  ------        --------------   -----  \n",
      " 0   year          440236 non-null  int64  \n",
      " 1   make          440236 non-null  object \n",
      " 2   model         440236 non-null  object \n",
      " 3   body          440236 non-null  object \n",
      " 4   transmission  440236 non-null  object \n",
      " 5   state         440236 non-null  object \n",
      " 6   condition     440236 non-null  float64\n",
      " 7   odometer      440236 non-null  float64\n",
      " 8   color         440236 non-null  object \n",
      " 9   interior      440236 non-null  object \n",
      " 10  sellingprice  440236 non-null  int64  \n",
      " 11  sl_year       440236 non-null  int64  \n",
      " 12  sl_quarter    440236 non-null  int64  \n",
      " 13  s_month       440236 non-null  int64  \n",
      " 14  sl_weekday    440236 non-null  int64  \n",
      " 15  s_day         440236 non-null  int64  \n",
      "dtypes: float64(2), int64(7), object(7)\n",
      "memory usage: 53.7+ MB\n",
      "None\n"
     ]
    }
   ],
   "source": [
    "print(autodate.info())"
   ]
  },
  {
   "cell_type": "code",
   "execution_count": 253,
   "metadata": {
    "execution": {
     "iopub.execute_input": "2023-05-26T16:58:09.538712Z",
     "iopub.status.busy": "2023-05-26T16:58:09.538362Z",
     "iopub.status.idle": "2023-05-26T16:58:09.571536Z",
     "shell.execute_reply": "2023-05-26T16:58:09.570390Z",
     "shell.execute_reply.started": "2023-05-26T16:58:09.538682Z"
    }
   },
   "outputs": [],
   "source": [
    "# для трейна\n",
    "autodate_cat_test = autodate_test[['make', 'model', 'body', 'transmission', 'state','color', 'interior']] \n",
    "autodate_col_test = autodate_test[['year', 'condition', 'odometer']] "
   ]
  },
  {
   "cell_type": "code",
   "execution_count": 254,
   "metadata": {
    "execution": {
     "iopub.execute_input": "2023-05-26T16:58:10.288633Z",
     "iopub.status.busy": "2023-05-26T16:58:10.288251Z",
     "iopub.status.idle": "2023-05-26T16:58:12.119661Z",
     "shell.execute_reply": "2023-05-26T16:58:12.118709Z",
     "shell.execute_reply.started": "2023-05-26T16:58:10.288601Z"
    }
   },
   "outputs": [],
   "source": [
    "#Преобразуем категориальные признаки и объеденим их в датафрем, создадим второй датафрейм для числовых признаков\n",
    "encoder = OrdinalEncoder()\n",
    "autodate_cat = pd.DataFrame(encoder.fit_transform(autodate_cat),columns=autodate_cat.columns) \n",
    " #Для теста\n",
    "autodate_cat_test = pd.DataFrame(encoder.fit_transform(autodate_cat_test),columns=autodate_cat_test.columns) \n"
   ]
  },
  {
   "cell_type": "code",
   "execution_count": 255,
   "metadata": {
    "execution": {
     "iopub.execute_input": "2023-05-26T16:58:12.121860Z",
     "iopub.status.busy": "2023-05-26T16:58:12.121492Z",
     "iopub.status.idle": "2023-05-26T16:58:13.142067Z",
     "shell.execute_reply": "2023-05-26T16:58:13.141120Z",
     "shell.execute_reply.started": "2023-05-26T16:58:12.121826Z"
    }
   },
   "outputs": [
    {
     "name": "stdout",
     "output_type": "stream",
     "text": [
      "<class 'pandas.core.frame.DataFrame'>\n",
      "RangeIndex: 440236 entries, 0 to 440235\n",
      "Data columns (total 16 columns):\n",
      " #   Column        Non-Null Count   Dtype  \n",
      "---  ------        --------------   -----  \n",
      " 0   year          440236 non-null  int64  \n",
      " 1   make          440236 non-null  object \n",
      " 2   model         440236 non-null  object \n",
      " 3   body          440236 non-null  object \n",
      " 4   transmission  440236 non-null  object \n",
      " 5   state         440236 non-null  object \n",
      " 6   condition     440236 non-null  float64\n",
      " 7   odometer      440236 non-null  float64\n",
      " 8   color         440236 non-null  object \n",
      " 9   interior      440236 non-null  object \n",
      " 10  sellingprice  440236 non-null  int64  \n",
      " 11  sl_year       440236 non-null  int64  \n",
      " 12  sl_quarter    440236 non-null  int64  \n",
      " 13  s_month       440236 non-null  int64  \n",
      " 14  sl_weekday    440236 non-null  int64  \n",
      " 15  s_day         440236 non-null  int64  \n",
      "dtypes: float64(2), int64(7), object(7)\n",
      "memory usage: 53.7+ MB\n"
     ]
    }
   ],
   "source": [
    "autodate.info()"
   ]
  },
  {
   "cell_type": "code",
   "execution_count": 256,
   "metadata": {
    "execution": {
     "iopub.execute_input": "2023-05-26T16:58:13.145940Z",
     "iopub.status.busy": "2023-05-26T16:58:13.145642Z",
     "iopub.status.idle": "2023-05-26T16:58:13.152998Z",
     "shell.execute_reply": "2023-05-26T16:58:13.152066Z",
     "shell.execute_reply.started": "2023-05-26T16:58:13.145915Z"
    }
   },
   "outputs": [],
   "source": [
    "autodate_col = pd.DataFrame((autodate_col),columns=autodate_col.columns)\n",
    "autodate_col_test = pd.DataFrame((autodate_col_test),columns=autodate_col_test.columns) "
   ]
  },
  {
   "cell_type": "code",
   "execution_count": 257,
   "metadata": {
    "execution": {
     "iopub.execute_input": "2023-05-26T16:58:14.177376Z",
     "iopub.status.busy": "2023-05-26T16:58:14.176706Z",
     "iopub.status.idle": "2023-05-26T16:58:14.284661Z",
     "shell.execute_reply": "2023-05-26T16:58:14.283540Z",
     "shell.execute_reply.started": "2023-05-26T16:58:14.177343Z"
    }
   },
   "outputs": [
    {
     "data": {
      "text/html": [
       "<div>\n",
       "<style scoped>\n",
       "    .dataframe tbody tr th:only-of-type {\n",
       "        vertical-align: middle;\n",
       "    }\n",
       "\n",
       "    .dataframe tbody tr th {\n",
       "        vertical-align: top;\n",
       "    }\n",
       "\n",
       "    .dataframe thead th {\n",
       "        text-align: right;\n",
       "    }\n",
       "</style>\n",
       "<table border=\"1\" class=\"dataframe\">\n",
       "  <thead>\n",
       "    <tr style=\"text-align: right;\">\n",
       "      <th></th>\n",
       "      <th>year</th>\n",
       "      <th>make</th>\n",
       "      <th>model</th>\n",
       "      <th>body</th>\n",
       "      <th>transmission</th>\n",
       "      <th>state</th>\n",
       "      <th>color</th>\n",
       "      <th>condition</th>\n",
       "      <th>odometer</th>\n",
       "      <th>interior</th>\n",
       "      <th>sellingprice</th>\n",
       "      <th>s_day</th>\n",
       "      <th>sl_weekday</th>\n",
       "      <th>s_month</th>\n",
       "      <th>sl_quarter</th>\n",
       "      <th>sl_year</th>\n",
       "      <th>age</th>\n",
       "    </tr>\n",
       "  </thead>\n",
       "  <tbody>\n",
       "    <tr>\n",
       "      <th>0</th>\n",
       "      <td>2011</td>\n",
       "      <td>14.0</td>\n",
       "      <td>229.0</td>\n",
       "      <td>5.0</td>\n",
       "      <td>0.0</td>\n",
       "      <td>12.0</td>\n",
       "      <td>1.0</td>\n",
       "      <td>4.2</td>\n",
       "      <td>111041.0</td>\n",
       "      <td>1.0</td>\n",
       "      <td>12500</td>\n",
       "      <td>1</td>\n",
       "      <td>0</td>\n",
       "      <td>6</td>\n",
       "      <td>2</td>\n",
       "      <td>2015</td>\n",
       "      <td>4</td>\n",
       "    </tr>\n",
       "    <tr>\n",
       "      <th>1</th>\n",
       "      <td>2014</td>\n",
       "      <td>14.0</td>\n",
       "      <td>297.0</td>\n",
       "      <td>6.0</td>\n",
       "      <td>0.0</td>\n",
       "      <td>15.0</td>\n",
       "      <td>1.0</td>\n",
       "      <td>3.5</td>\n",
       "      <td>31034.0</td>\n",
       "      <td>1.0</td>\n",
       "      <td>14500</td>\n",
       "      <td>24</td>\n",
       "      <td>1</td>\n",
       "      <td>2</td>\n",
       "      <td>1</td>\n",
       "      <td>2015</td>\n",
       "      <td>1</td>\n",
       "    </tr>\n",
       "    <tr>\n",
       "      <th>2</th>\n",
       "      <td>2012</td>\n",
       "      <td>35.0</td>\n",
       "      <td>617.0</td>\n",
       "      <td>6.0</td>\n",
       "      <td>0.0</td>\n",
       "      <td>19.0</td>\n",
       "      <td>1.0</td>\n",
       "      <td>2.2</td>\n",
       "      <td>35619.0</td>\n",
       "      <td>1.0</td>\n",
       "      <td>9100</td>\n",
       "      <td>9</td>\n",
       "      <td>1</td>\n",
       "      <td>6</td>\n",
       "      <td>2</td>\n",
       "      <td>2015</td>\n",
       "      <td>3</td>\n",
       "    </tr>\n",
       "    <tr>\n",
       "      <th>3</th>\n",
       "      <td>2003</td>\n",
       "      <td>17.0</td>\n",
       "      <td>347.0</td>\n",
       "      <td>5.0</td>\n",
       "      <td>0.0</td>\n",
       "      <td>33.0</td>\n",
       "      <td>6.0</td>\n",
       "      <td>2.8</td>\n",
       "      <td>131301.0</td>\n",
       "      <td>0.0</td>\n",
       "      <td>13300</td>\n",
       "      <td>16</td>\n",
       "      <td>1</td>\n",
       "      <td>6</td>\n",
       "      <td>2</td>\n",
       "      <td>2015</td>\n",
       "      <td>12</td>\n",
       "    </tr>\n",
       "    <tr>\n",
       "      <th>4</th>\n",
       "      <td>2007</td>\n",
       "      <td>14.0</td>\n",
       "      <td>297.0</td>\n",
       "      <td>6.0</td>\n",
       "      <td>0.0</td>\n",
       "      <td>12.0</td>\n",
       "      <td>1.0</td>\n",
       "      <td>2.0</td>\n",
       "      <td>127709.0</td>\n",
       "      <td>1.0</td>\n",
       "      <td>1300</td>\n",
       "      <td>2</td>\n",
       "      <td>0</td>\n",
       "      <td>2</td>\n",
       "      <td>1</td>\n",
       "      <td>2015</td>\n",
       "      <td>8</td>\n",
       "    </tr>\n",
       "  </tbody>\n",
       "</table>\n",
       "</div>"
      ],
      "text/plain": [
       "   year  make  model  body  transmission  state  color  condition  odometer  \\\n",
       "0  2011  14.0  229.0   5.0           0.0   12.0    1.0        4.2  111041.0   \n",
       "1  2014  14.0  297.0   6.0           0.0   15.0    1.0        3.5   31034.0   \n",
       "2  2012  35.0  617.0   6.0           0.0   19.0    1.0        2.2   35619.0   \n",
       "3  2003  17.0  347.0   5.0           0.0   33.0    6.0        2.8  131301.0   \n",
       "4  2007  14.0  297.0   6.0           0.0   12.0    1.0        2.0  127709.0   \n",
       "\n",
       "   interior  sellingprice  s_day  sl_weekday  s_month  sl_quarter  sl_year  \\\n",
       "0       1.0         12500      1           0        6           2     2015   \n",
       "1       1.0         14500     24           1        2           1     2015   \n",
       "2       1.0          9100      9           1        6           2     2015   \n",
       "3       0.0         13300     16           1        6           2     2015   \n",
       "4       1.0          1300      2           0        2           1     2015   \n",
       "\n",
       "   age  \n",
       "0    4  \n",
       "1    1  \n",
       "2    3  \n",
       "3   12  \n",
       "4    8  "
      ]
     },
     "execution_count": 257,
     "metadata": {},
     "output_type": "execute_result"
    }
   ],
   "source": [
    "#Объеденим обе части таблицы\n",
    "autodate = pd.concat([autodate_cat, autodate_col,date_decomp], axis = 1)\n",
    "autodate = autodate[['year','make','model', 'body','transmission','state', 'color', 'condition', 'odometer', 'interior', 'sellingprice','s_day','sl_weekday','s_month','sl_quarter', 'sl_year', 'age']]\n",
    "autodate.head()"
   ]
  },
  {
   "cell_type": "code",
   "execution_count": 258,
   "metadata": {
    "execution": {
     "iopub.execute_input": "2023-05-26T16:58:15.455497Z",
     "iopub.status.busy": "2023-05-26T16:58:15.455154Z",
     "iopub.status.idle": "2023-05-26T16:58:15.595557Z",
     "shell.execute_reply": "2023-05-26T16:58:15.594376Z",
     "shell.execute_reply.started": "2023-05-26T16:58:15.455469Z"
    }
   },
   "outputs": [
    {
     "data": {
      "text/html": [
       "<div>\n",
       "<style scoped>\n",
       "    .dataframe tbody tr th:only-of-type {\n",
       "        vertical-align: middle;\n",
       "    }\n",
       "\n",
       "    .dataframe tbody tr th {\n",
       "        vertical-align: top;\n",
       "    }\n",
       "\n",
       "    .dataframe thead th {\n",
       "        text-align: right;\n",
       "    }\n",
       "</style>\n",
       "<table border=\"1\" class=\"dataframe\">\n",
       "  <thead>\n",
       "    <tr style=\"text-align: right;\">\n",
       "      <th></th>\n",
       "      <th>year</th>\n",
       "      <th>make</th>\n",
       "      <th>model</th>\n",
       "      <th>body</th>\n",
       "      <th>transmission</th>\n",
       "      <th>state</th>\n",
       "      <th>color</th>\n",
       "      <th>condition</th>\n",
       "      <th>odometer</th>\n",
       "      <th>interior</th>\n",
       "      <th>s_day</th>\n",
       "      <th>sl_weekday</th>\n",
       "      <th>s_month</th>\n",
       "      <th>sl_quarter</th>\n",
       "      <th>sl_year</th>\n",
       "      <th>age</th>\n",
       "    </tr>\n",
       "  </thead>\n",
       "  <tbody>\n",
       "    <tr>\n",
       "      <th>0</th>\n",
       "      <td>2005</td>\n",
       "      <td>6.0</td>\n",
       "      <td>114.0</td>\n",
       "      <td>6.0</td>\n",
       "      <td>0.0</td>\n",
       "      <td>3.0</td>\n",
       "      <td>15.0</td>\n",
       "      <td>2.7</td>\n",
       "      <td>116970.0</td>\n",
       "      <td>1.0</td>\n",
       "      <td>13</td>\n",
       "      <td>1</td>\n",
       "      <td>1</td>\n",
       "      <td>1</td>\n",
       "      <td>2015</td>\n",
       "      <td>10</td>\n",
       "    </tr>\n",
       "    <tr>\n",
       "      <th>1</th>\n",
       "      <td>2014</td>\n",
       "      <td>15.0</td>\n",
       "      <td>557.0</td>\n",
       "      <td>4.0</td>\n",
       "      <td>0.0</td>\n",
       "      <td>28.0</td>\n",
       "      <td>17.0</td>\n",
       "      <td>4.4</td>\n",
       "      <td>6286.0</td>\n",
       "      <td>6.0</td>\n",
       "      <td>26</td>\n",
       "      <td>3</td>\n",
       "      <td>2</td>\n",
       "      <td>1</td>\n",
       "      <td>2015</td>\n",
       "      <td>1</td>\n",
       "    </tr>\n",
       "    <tr>\n",
       "      <th>2</th>\n",
       "      <td>2013</td>\n",
       "      <td>35.0</td>\n",
       "      <td>425.0</td>\n",
       "      <td>5.0</td>\n",
       "      <td>0.0</td>\n",
       "      <td>24.0</td>\n",
       "      <td>7.0</td>\n",
       "      <td>4.6</td>\n",
       "      <td>11831.0</td>\n",
       "      <td>1.0</td>\n",
       "      <td>23</td>\n",
       "      <td>0</td>\n",
       "      <td>2</td>\n",
       "      <td>1</td>\n",
       "      <td>2015</td>\n",
       "      <td>2</td>\n",
       "    </tr>\n",
       "    <tr>\n",
       "      <th>3</th>\n",
       "      <td>2013</td>\n",
       "      <td>7.0</td>\n",
       "      <td>327.0</td>\n",
       "      <td>6.0</td>\n",
       "      <td>0.0</td>\n",
       "      <td>5.0</td>\n",
       "      <td>15.0</td>\n",
       "      <td>2.3</td>\n",
       "      <td>57105.0</td>\n",
       "      <td>1.0</td>\n",
       "      <td>5</td>\n",
       "      <td>3</td>\n",
       "      <td>3</td>\n",
       "      <td>1</td>\n",
       "      <td>2015</td>\n",
       "      <td>2</td>\n",
       "    </tr>\n",
       "    <tr>\n",
       "      <th>4</th>\n",
       "      <td>2013</td>\n",
       "      <td>35.0</td>\n",
       "      <td>619.0</td>\n",
       "      <td>0.0</td>\n",
       "      <td>0.0</td>\n",
       "      <td>32.0</td>\n",
       "      <td>1.0</td>\n",
       "      <td>2.9</td>\n",
       "      <td>31083.0</td>\n",
       "      <td>1.0</td>\n",
       "      <td>2</td>\n",
       "      <td>1</td>\n",
       "      <td>6</td>\n",
       "      <td>2</td>\n",
       "      <td>2015</td>\n",
       "      <td>2</td>\n",
       "    </tr>\n",
       "  </tbody>\n",
       "</table>\n",
       "</div>"
      ],
      "text/plain": [
       "   year  make  model  body  transmission  state  color  condition  odometer  \\\n",
       "0  2005   6.0  114.0   6.0           0.0    3.0   15.0        2.7  116970.0   \n",
       "1  2014  15.0  557.0   4.0           0.0   28.0   17.0        4.4    6286.0   \n",
       "2  2013  35.0  425.0   5.0           0.0   24.0    7.0        4.6   11831.0   \n",
       "3  2013   7.0  327.0   6.0           0.0    5.0   15.0        2.3   57105.0   \n",
       "4  2013  35.0  619.0   0.0           0.0   32.0    1.0        2.9   31083.0   \n",
       "\n",
       "   interior  s_day  sl_weekday  s_month  sl_quarter  sl_year  age  \n",
       "0       1.0     13           1        1           1     2015   10  \n",
       "1       6.0     26           3        2           1     2015    1  \n",
       "2       1.0     23           0        2           1     2015    2  \n",
       "3       1.0      5           3        3           1     2015    2  \n",
       "4       1.0      2           1        6           2     2015    2  "
      ]
     },
     "execution_count": 258,
     "metadata": {},
     "output_type": "execute_result"
    }
   ],
   "source": [
    "#Объеденим обе части для теста\n",
    "autodate_test = pd.concat([autodate_cat_test, autodate_col_test, date_decomp_test], axis = 1)\n",
    "autodate_test = autodate_test[['year','make','model', 'body','transmission','state', 'color','condition', 'odometer', 'interior', 's_day','sl_weekday','s_month','sl_quarter', 'sl_year', 'age']]\n",
    "autodate_test.head()"
   ]
  },
  {
   "cell_type": "code",
   "execution_count": 259,
   "metadata": {
    "execution": {
     "iopub.execute_input": "2023-05-26T16:58:16.233856Z",
     "iopub.status.busy": "2023-05-26T16:58:16.233281Z",
     "iopub.status.idle": "2023-05-26T16:58:16.256873Z",
     "shell.execute_reply": "2023-05-26T16:58:16.255768Z",
     "shell.execute_reply.started": "2023-05-26T16:58:16.233803Z"
    }
   },
   "outputs": [
    {
     "name": "stdout",
     "output_type": "stream",
     "text": [
      "<class 'pandas.core.frame.DataFrame'>\n",
      "RangeIndex: 440236 entries, 0 to 440235\n",
      "Data columns (total 17 columns):\n",
      " #   Column        Non-Null Count   Dtype  \n",
      "---  ------        --------------   -----  \n",
      " 0   year          440236 non-null  int64  \n",
      " 1   make          440236 non-null  float64\n",
      " 2   model         440236 non-null  float64\n",
      " 3   body          440236 non-null  float64\n",
      " 4   transmission  440236 non-null  float64\n",
      " 5   state         440236 non-null  float64\n",
      " 6   color         440236 non-null  float64\n",
      " 7   condition     440236 non-null  float64\n",
      " 8   odometer      440236 non-null  float64\n",
      " 9   interior      440236 non-null  float64\n",
      " 10  sellingprice  440236 non-null  int64  \n",
      " 11  s_day         440236 non-null  int64  \n",
      " 12  sl_weekday    440236 non-null  int64  \n",
      " 13  s_month       440236 non-null  int64  \n",
      " 14  sl_quarter    440236 non-null  int64  \n",
      " 15  sl_year       440236 non-null  int64  \n",
      " 16  age           440236 non-null  int64  \n",
      "dtypes: float64(9), int64(8)\n",
      "memory usage: 57.1 MB\n"
     ]
    }
   ],
   "source": [
    "autodate.info()"
   ]
  },
  {
   "cell_type": "code",
   "execution_count": 260,
   "metadata": {
    "execution": {
     "iopub.execute_input": "2023-05-26T16:58:17.129423Z",
     "iopub.status.busy": "2023-05-26T16:58:17.128718Z",
     "iopub.status.idle": "2023-05-26T16:58:17.160679Z",
     "shell.execute_reply": "2023-05-26T16:58:17.159863Z",
     "shell.execute_reply.started": "2023-05-26T16:58:17.129387Z"
    }
   },
   "outputs": [
    {
     "name": "stdout",
     "output_type": "stream",
     "text": [
      "<class 'pandas.core.frame.DataFrame'>\n",
      "RangeIndex: 110058 entries, 0 to 110057\n",
      "Data columns (total 16 columns):\n",
      " #   Column        Non-Null Count   Dtype  \n",
      "---  ------        --------------   -----  \n",
      " 0   year          110058 non-null  int64  \n",
      " 1   make          110058 non-null  float64\n",
      " 2   model         110058 non-null  float64\n",
      " 3   body          110058 non-null  float64\n",
      " 4   transmission  110058 non-null  float64\n",
      " 5   state         110058 non-null  float64\n",
      " 6   color         110058 non-null  float64\n",
      " 7   condition     110058 non-null  float64\n",
      " 8   odometer      110058 non-null  float64\n",
      " 9   interior      110058 non-null  float64\n",
      " 10  s_day         110058 non-null  int64  \n",
      " 11  sl_weekday    110058 non-null  int64  \n",
      " 12  s_month       110058 non-null  int64  \n",
      " 13  sl_quarter    110058 non-null  int64  \n",
      " 14  sl_year       110058 non-null  int64  \n",
      " 15  age           110058 non-null  int64  \n",
      "dtypes: float64(9), int64(7)\n",
      "memory usage: 13.4 MB\n"
     ]
    }
   ],
   "source": [
    "autodate_test.info()"
   ]
  },
  {
   "attachments": {},
   "cell_type": "markdown",
   "metadata": {},
   "source": [
    "# 4. Выбор и обучение моделей"
   ]
  },
  {
   "attachments": {},
   "cell_type": "markdown",
   "metadata": {},
   "source": [
    "<h4>Разделим данные на выборки</h4>"
   ]
  },
  {
   "cell_type": "code",
   "execution_count": 261,
   "metadata": {
    "execution": {
     "iopub.execute_input": "2023-05-26T17:01:23.542472Z",
     "iopub.status.busy": "2023-05-26T17:01:23.541805Z",
     "iopub.status.idle": "2023-05-26T17:01:23.567425Z",
     "shell.execute_reply": "2023-05-26T17:01:23.565957Z",
     "shell.execute_reply.started": "2023-05-26T17:01:23.542438Z"
    }
   },
   "outputs": [],
   "source": [
    "#Выделим таргет и фьючи:\n",
    "features = autodate.drop('sellingprice', axis=1)\n",
    "target = autodate.sellingprice"
   ]
  },
  {
   "cell_type": "code",
   "execution_count": 262,
   "metadata": {
    "execution": {
     "iopub.execute_input": "2023-05-26T17:01:25.915285Z",
     "iopub.status.busy": "2023-05-26T17:01:25.914916Z",
     "iopub.status.idle": "2023-05-26T17:01:26.009347Z",
     "shell.execute_reply": "2023-05-26T17:01:26.008340Z",
     "shell.execute_reply.started": "2023-05-26T17:01:25.915257Z"
    }
   },
   "outputs": [],
   "source": [
    "#разделим данные на выборки:\n",
    "features_train, features_test, target_train, target_test = train_test_split(features,\n",
    "                                                                            target, \n",
    "                                                                            test_size=.25,\n",
    "                                                                            random_state=12345)"
   ]
  },
  {
   "attachments": {},
   "cell_type": "markdown",
   "metadata": {},
   "source": [
    "<h4>Выберем Модель CatBoostRegressor</h4>"
   ]
  },
  {
   "cell_type": "code",
   "execution_count": 263,
   "metadata": {
    "execution": {
     "iopub.execute_input": "2023-05-26T17:01:54.071758Z",
     "iopub.status.busy": "2023-05-26T17:01:54.071157Z",
     "iopub.status.idle": "2023-05-26T17:14:36.457946Z",
     "shell.execute_reply": "2023-05-26T17:14:36.456843Z",
     "shell.execute_reply.started": "2023-05-26T17:01:54.071723Z"
    }
   },
   "outputs": [
    {
     "name": "stdout",
     "output_type": "stream",
     "text": [
      "{'learning_rate': 0.5, 'random_state': 12345, 'verbose': False}\n",
      "CPU times: total: 9min 55s\n",
      "Wall time: 7min 58s\n"
     ]
    },
    {
     "data": {
      "text/plain": [
       "2537.480801273795"
      ]
     },
     "execution_count": 263,
     "metadata": {},
     "output_type": "execute_result"
    }
   ],
   "source": [
    "%%time\n",
    "\n",
    "model_cbr = CatBoostRegressor() \n",
    "parameters = [{'learning_rate':[.1, .5, .8], 'random_state':[12345], 'verbose':[False]}]\n",
    "\n",
    "gscv = GridSearchCV(model_cbr, parameters, scoring='neg_mean_squared_error')\n",
    "gscv.fit(features_train, target_train)\n",
    "\n",
    "print(gscv.best_params_)\n",
    "\n",
    "mts = gscv.cv_results_['mean_test_score']\n",
    "    \n",
    "gscv_rsme_cbr = (max(mts) * -1) ** .5\n",
    "gscv_rsme_cbr"
   ]
  },
  {
   "cell_type": "code",
   "execution_count": 264,
   "metadata": {
    "execution": {
     "iopub.execute_input": "2023-05-26T17:14:36.460337Z",
     "iopub.status.busy": "2023-05-26T17:14:36.459972Z",
     "iopub.status.idle": "2023-05-26T17:15:34.704091Z",
     "shell.execute_reply": "2023-05-26T17:15:34.703139Z",
     "shell.execute_reply.started": "2023-05-26T17:14:36.460304Z"
    }
   },
   "outputs": [
    {
     "name": "stdout",
     "output_type": "stream",
     "text": [
      "CPU times: total: 46.7 s\n",
      "Wall time: 36.1 s\n"
     ]
    },
    {
     "data": {
      "text/plain": [
       "<catboost.core.CatBoostRegressor at 0x21f4916ac70>"
      ]
     },
     "execution_count": 264,
     "metadata": {},
     "output_type": "execute_result"
    }
   ],
   "source": [
    "%%time\n",
    "model_cbr = CatBoostRegressor(learning_rate=.5, random_state=12345, verbose=False) #подставил лучшие параметры\n",
    "model_cbr.fit(features_train, target_train)"
   ]
  },
  {
   "cell_type": "code",
   "execution_count": 43,
   "metadata": {
    "execution": {
     "iopub.execute_input": "2023-05-26T17:21:32.134620Z",
     "iopub.status.busy": "2023-05-26T17:21:32.133955Z",
     "iopub.status.idle": "2023-05-26T17:21:32.265940Z",
     "shell.execute_reply": "2023-05-26T17:21:32.264859Z",
     "shell.execute_reply.started": "2023-05-26T17:21:32.134580Z"
    }
   },
   "outputs": [
    {
     "ename": "NameError",
     "evalue": "name 'model_cbr' is not defined",
     "output_type": "error",
     "traceback": [
      "\u001b[1;31m---------------------------------------------------------------------------\u001b[0m",
      "\u001b[1;31mNameError\u001b[0m                                 Traceback (most recent call last)",
      "File \u001b[1;32m<timed exec>:1\u001b[0m, in \u001b[0;36m<module>\u001b[1;34m\u001b[0m\n",
      "\u001b[1;31mNameError\u001b[0m: name 'model_cbr' is not defined"
     ]
    }
   ],
   "source": [
    "%%time\n",
    "\n",
    "target_predict = model_cbr.predict(features_test)"
   ]
  },
  {
   "attachments": {},
   "cell_type": "markdown",
   "metadata": {},
   "source": [
    "<h3>Проверим модель на тестовых данных</h3>"
   ]
  },
  {
   "cell_type": "code",
   "execution_count": 266,
   "metadata": {
    "execution": {
     "iopub.execute_input": "2023-05-26T17:22:33.573918Z",
     "iopub.status.busy": "2023-05-26T17:22:33.573511Z",
     "iopub.status.idle": "2023-05-26T17:22:33.578220Z",
     "shell.execute_reply": "2023-05-26T17:22:33.577146Z",
     "shell.execute_reply.started": "2023-05-26T17:22:33.573887Z"
    }
   },
   "outputs": [],
   "source": [
    "out_test = autodate_test"
   ]
  },
  {
   "cell_type": "code",
   "execution_count": 267,
   "metadata": {
    "execution": {
     "iopub.execute_input": "2023-05-26T17:22:35.046750Z",
     "iopub.status.busy": "2023-05-26T17:22:35.045735Z",
     "iopub.status.idle": "2023-05-26T17:22:35.522837Z",
     "shell.execute_reply": "2023-05-26T17:22:35.521781Z",
     "shell.execute_reply.started": "2023-05-26T17:22:35.046708Z"
    }
   },
   "outputs": [
    {
     "name": "stdout",
     "output_type": "stream",
     "text": [
      "CPU times: total: 172 ms\n",
      "Wall time: 54.9 ms\n"
     ]
    }
   ],
   "source": [
    "\n",
    "%%time\n",
    "main_predict = model_cbr.predict(out_test)"
   ]
  },
  {
   "cell_type": "code",
   "execution_count": 270,
   "metadata": {
    "execution": {
     "iopub.execute_input": "2023-05-26T18:05:52.368920Z",
     "iopub.status.busy": "2023-05-26T18:05:52.368179Z",
     "iopub.status.idle": "2023-05-26T18:05:52.644141Z",
     "shell.execute_reply": "2023-05-26T18:05:52.642729Z",
     "shell.execute_reply.started": "2023-05-26T18:05:52.368885Z"
    }
   },
   "outputs": [],
   "source": [
    "#submission = pd.read_csv('/kaggle/input/cars-price-prediction/submission.csv')\n",
    "#submission['vin'] = autodate['vin']\n",
    "submission1 = pd.DataFrame()\n",
    "#submission['vin'] = autodate_test['vin']\n",
    "submission['sellingprice'] = main_predict\n",
    "submission.to_csv(r'./sample_submission.csv',index = False)"
   ]
  },
  {
   "cell_type": "code",
   "execution_count": 271,
   "metadata": {},
   "outputs": [
    {
     "data": {
      "text/plain": [
       "0          3195.025145\n",
       "1         61095.274630\n",
       "2         24753.270933\n",
       "3         11698.869657\n",
       "4         46303.272800\n",
       "              ...     \n",
       "110053    17622.636357\n",
       "110054    49902.795964\n",
       "110055     6477.107889\n",
       "110056    18699.705454\n",
       "110057    32541.015795\n",
       "Name: sellingprice, Length: 110058, dtype: float64"
      ]
     },
     "execution_count": 271,
     "metadata": {},
     "output_type": "execute_result"
    }
   ],
   "source": [
    "\n",
    "submission['sellingprice']"
   ]
  },
  {
   "cell_type": "code",
   "execution_count": 274,
   "metadata": {},
   "outputs": [
    {
     "data": {
      "text/html": [
       "<div>\n",
       "<style scoped>\n",
       "    .dataframe tbody tr th:only-of-type {\n",
       "        vertical-align: middle;\n",
       "    }\n",
       "\n",
       "    .dataframe tbody tr th {\n",
       "        vertical-align: top;\n",
       "    }\n",
       "\n",
       "    .dataframe thead th {\n",
       "        text-align: right;\n",
       "    }\n",
       "</style>\n",
       "<table border=\"1\" class=\"dataframe\">\n",
       "  <thead>\n",
       "    <tr style=\"text-align: right;\">\n",
       "      <th></th>\n",
       "      <th>vin</th>\n",
       "      <th>sellingprice</th>\n",
       "    </tr>\n",
       "  </thead>\n",
       "  <tbody>\n",
       "    <tr>\n",
       "      <th>0</th>\n",
       "      <td>1g6dp567450124779</td>\n",
       "      <td>3195.025145</td>\n",
       "    </tr>\n",
       "    <tr>\n",
       "      <th>1</th>\n",
       "      <td>1gtw7fca7e1902207</td>\n",
       "      <td>61095.274630</td>\n",
       "    </tr>\n",
       "    <tr>\n",
       "      <th>2</th>\n",
       "      <td>jn8az1mw6dw303497</td>\n",
       "      <td>24753.270933</td>\n",
       "    </tr>\n",
       "    <tr>\n",
       "      <th>3</th>\n",
       "      <td>2g1wf5e34d1160703</td>\n",
       "      <td>11698.869657</td>\n",
       "    </tr>\n",
       "    <tr>\n",
       "      <th>4</th>\n",
       "      <td>1n6aa0ec3dn301209</td>\n",
       "      <td>46303.272800</td>\n",
       "    </tr>\n",
       "    <tr>\n",
       "      <th>...</th>\n",
       "      <td>...</td>\n",
       "      <td>...</td>\n",
       "    </tr>\n",
       "    <tr>\n",
       "      <th>110053</th>\n",
       "      <td>1j4aa2d17bl584330</td>\n",
       "      <td>17622.636357</td>\n",
       "    </tr>\n",
       "    <tr>\n",
       "      <th>110054</th>\n",
       "      <td>jthbf1d23e5007526</td>\n",
       "      <td>49902.795964</td>\n",
       "    </tr>\n",
       "    <tr>\n",
       "      <th>110055</th>\n",
       "      <td>1n4ba41e54c831950</td>\n",
       "      <td>6477.107889</td>\n",
       "    </tr>\n",
       "    <tr>\n",
       "      <th>110056</th>\n",
       "      <td>jn1az4eh3dm382431</td>\n",
       "      <td>18699.705454</td>\n",
       "    </tr>\n",
       "    <tr>\n",
       "      <th>110057</th>\n",
       "      <td>2g1fa1e32c9193058</td>\n",
       "      <td>32541.015795</td>\n",
       "    </tr>\n",
       "  </tbody>\n",
       "</table>\n",
       "<p>110058 rows × 2 columns</p>\n",
       "</div>"
      ],
      "text/plain": [
       "                      vin  sellingprice\n",
       "0       1g6dp567450124779   3195.025145\n",
       "1       1gtw7fca7e1902207  61095.274630\n",
       "2       jn8az1mw6dw303497  24753.270933\n",
       "3       2g1wf5e34d1160703  11698.869657\n",
       "4       1n6aa0ec3dn301209  46303.272800\n",
       "...                   ...           ...\n",
       "110053  1j4aa2d17bl584330  17622.636357\n",
       "110054  jthbf1d23e5007526  49902.795964\n",
       "110055  1n4ba41e54c831950   6477.107889\n",
       "110056  jn1az4eh3dm382431  18699.705454\n",
       "110057  2g1fa1e32c9193058  32541.015795\n",
       "\n",
       "[110058 rows x 2 columns]"
      ]
     },
     "execution_count": 274,
     "metadata": {},
     "output_type": "execute_result"
    }
   ],
   "source": [
    "submission"
   ]
  },
  {
   "attachments": {},
   "cell_type": "markdown",
   "metadata": {},
   "source": [
    "# 5.Вывод"
   ]
  },
  {
   "attachments": {},
   "cell_type": "markdown",
   "metadata": {},
   "source": [
    "   <h4>В процессе иследования в проекте были реализованны следующие этапы:</h4>\n",
    "\n",
    "   1. Проведено первичное ознакомление с данными в обучающеи и тестовой выборке. Визуальное ознакомление с данными дало        представление о дальнейших действиях, а именно:\n",
    " - Необходимости проработки формата даты для удобства дальнейшего использования\n",
    " - Структурированию и форматированию категориальных признаков\n",
    " - Исключению данных, которые возможно не несут ценности для обучения\n",
    "\n",
    "   \n",
    "   2. Проведено форматирование поля с датой, исключением данных очасовом поясе. Это открыло возможность восприятия моделью данных без искажений и ошибок, а так же открыло горизонт для расширения спектра данных, связанных с этим полем. Был исключен столбец с вин номером автомобиля. При всей его информативности в базах данных авто, в расчетах и обучении модели он является помехой, создавая ненужный шум.\n",
    " \n",
    "   \n",
    "   3. Была проведена чистка данных и заполнение пропусков в полях с маркой авто и моделью. Было выявленно около 50% скрытых дублей, которые были устранени наряду с пропусками. Наряду с этим, подобным образом были предобработанны поля со всеми данными. Был применен наиболее целесообразный метод для каждой колонки. В полях с числовыми данными это были медианы и средние, в категориальных столбцах, ближайшее подобное значение исходя из анализа.\n",
    " \n",
    "   \n",
    "   4. Был проведен анализ  рейтингов и удалены столбцы, которые предположительно могли иметь пересечения, к примеру модификация, которая с большой вероятностью может создавать вредный шум при обучении модели. \n",
    " \n",
    "   \n",
    "   5. Произведено разделение данных на две категории и кодирование категориальных признаков. После чего данные были объеденены. Все подготовительные работы осуществлялись парралельно на тестовом и тренеровочном датасетах с момента их згрузки для их соответствия.\n",
    " \n",
    "  \n",
    "  6. Для обучения данных была выбрана модель CatBoostRegressor. Для контроля результатов работы модели была выбрана метрика MSE. Обучение модели производилось два раза. После первичного обучения были исключены предполагаемые поля. В результате получили более качественную метрику, которая улучшилась более чем на 90%.\n",
    "\n",
    "  \n",
    "  ИТОГ: В результате исследования был получен метрика, которая трубует улучшения, для уверенной передачи модели в продакшн. В ходе исследования появились идеи и видения которые возможно применить для проекта с целью увеличения точности прогноза моделью, цены автомобиля. В каждой стадии подготовки проекта можно внести следующие дополнения:\n",
    "   - Предобработка. Для очистки данных следует обратить внимание на отрицательные значения в данных, которых не должно быть в поле с ценой. Стоит проработать распределение и проработать массив с точки зрения выбросов. Следует построить матрицу корреляции для обнаружения признаков, которые можно удалить(Проверка на мультиколлениарность). Попробовать заменить пропуски на значение  UNCNOW в место значений модели, близких по значению.(Так возможно убрать искажение из конкретной марки, которой добавляются данные).\n",
    "   - Фитчинженерия. Следует добавить поле с проработкой данных по винномеру, который связан с региональными и другими данными. Разбить поле с ценой на несколько категорий по принципу бютжет, вип, лакшари. Добавить поле со страной производителя и расположенность по континентам. Так же, поле со штатами можно попробовать разделить на части:  север, восток, юг, запад. Для автоматического подбора новых признаков стоит использовать библиотеку Fitcher tools  и полином фитчерс для обнаружения нелинейных закономерностей, что позволит значительно обогатить датасет и увеличить точность предсказаний. Применить библиотеку шаб для оценки важности признаков. Ознакомиться с методами ансамблирования и стейкинга.\n",
    "   - Обучение. Конечно же для более точного предсказания требуется использование нескольких моделей. Эксперименты с гиперпараметрами в этом процессе несут основополагающую роль. Для автоматического подбора гиперпараметров провести обучение с использованием метода optuna. \n",
    " "
   ]
  },
  {
   "attachments": {},
   "cell_type": "markdown",
   "metadata": {},
   "source": []
  }
 ],
 "metadata": {
  "kernelspec": {
   "display_name": "Python 3 (ipykernel)",
   "language": "python",
   "name": "python3"
  },
  "language_info": {
   "codemirror_mode": {
    "name": "ipython",
    "version": 3
   },
   "file_extension": ".py",
   "mimetype": "text/x-python",
   "name": "python",
   "nbconvert_exporter": "python",
   "pygments_lexer": "ipython3",
   "version": "3.9.12"
  }
 },
 "nbformat": 4,
 "nbformat_minor": 4
}
